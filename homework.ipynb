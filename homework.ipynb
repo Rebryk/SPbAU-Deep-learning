{
 "cells": [
  {
   "cell_type": "markdown",
   "metadata": {},
   "source": [
    "## Homework: Deep Jazz"
   ]
  },
  {
   "cell_type": "code",
   "execution_count": 1,
   "metadata": {
    "collapsed": true
   },
   "outputs": [],
   "source": [
    "import numpy as np\n",
    "\n",
    "from music21 import stream, midi, tempo, note\n",
    "from grammar import unparse_grammar\n",
    "from preprocess import get_musical_data, get_corpus_data\n",
    "from qa import prune_grammar, prune_notes, clean_up_notes\n",
    "from generator import __sample, __generate_grammar, __predict"
   ]
  },
  {
   "cell_type": "code",
   "execution_count": 2,
   "metadata": {
    "collapsed": true
   },
   "outputs": [],
   "source": [
    "N_epochs = 128  # default\n",
    "data_fn = 'midi/' + 'original_metheny.mid'  # 'And Then I Knew' by Pat Metheny\n",
    "out_fn = 'midi/' 'deepjazz_on_metheny...' + str(N_epochs)"
   ]
  },
  {
   "cell_type": "code",
   "execution_count": 3,
   "metadata": {},
   "outputs": [
    {
     "name": "stdout",
     "output_type": "stream",
     "text": [
      "corpus length: 193\n",
      "total # of values: 78\n"
     ]
    }
   ],
   "source": [
    "max_len = 20\n",
    "max_tries = 1000\n",
    "diversity = 0.5\n",
    "\n",
    "# musical settings\n",
    "bpm = 130\n",
    "\n",
    "# get data\n",
    "chords, abstract_grammars = get_musical_data(data_fn)\n",
    "corpus, values, val_indices, indices_val = get_corpus_data(abstract_grammars)\n",
    "print('corpus length:', len(corpus))\n",
    "print('total # of values:', len(values))"
   ]
  },
  {
   "cell_type": "markdown",
   "metadata": {},
   "source": [
    "## Keras model"
   ]
  },
  {
   "cell_type": "code",
   "execution_count": null,
   "metadata": {},
   "outputs": [],
   "source": [
    "from keras.models import Sequential\n",
    "from keras.layers.core import Dense, Activation, Dropout\n",
    "from keras.layers.recurrent import LSTM\n",
    "\n",
    "def get_keras_model(max_len, N_values):\n",
    "    # build a 2 stacked LSTM\n",
    "    model = Sequential()\n",
    "    model.add(LSTM(128, return_sequences=True, input_shape=(max_len, N_values)))\n",
    "    model.add(Dropout(0.2))\n",
    "    model.add(LSTM(128, return_sequences=False))\n",
    "    model.add(Dropout(0.2))\n",
    "    model.add(Dense(N_values))\n",
    "    model.add(Activation('softmax'))\n",
    "\n",
    "    model.compile(loss='categorical_crossentropy', optimizer='rmsprop')\n",
    "    return model"
   ]
  },
  {
   "cell_type": "markdown",
   "metadata": {},
   "source": [
    "## Tensorflow model"
   ]
  },
  {
   "cell_type": "code",
   "execution_count": 4,
   "metadata": {
    "collapsed": true
   },
   "outputs": [],
   "source": [
    "def split_into_batches(X, y, batch_size):\n",
    "    n = len(X)\n",
    "    indices = np.arange(n)\n",
    "    np.random.shuffle(indices)\n",
    "    \n",
    "    for i in range(0, n - n % batch_size, batch_size):\n",
    "        yield X[indices[i : i + batch_size]], y[indices[ i: i + batch_size]]"
   ]
  },
  {
   "cell_type": "code",
   "execution_count": 5,
   "metadata": {},
   "outputs": [
    {
     "name": "stderr",
     "output_type": "stream",
     "text": [
      "/home/y_rebryk/anaconda3/lib/python3.6/importlib/_bootstrap.py:205: RuntimeWarning: compiletime version 3.5 of module 'tensorflow.python.framework.fast_tensor_util' does not match runtime version 3.6\n",
      "  return f(*args, **kwds)\n"
     ]
    }
   ],
   "source": [
    "import tensorflow as tf\n",
    "\n",
    "from tqdm import tqdm_notebook\n",
    "from tensorflow.contrib import rnn\n",
    "\n",
    "\n",
    "class TensorflowModel:\n",
    "    def __init__(self, max_len, N_values, inner_size, learning_rate=1e-3, dr_keep_prob=0.8):\n",
    "        self.max_len = max_len\n",
    "        self.N_values = N_values\n",
    "        self.inner_size = inner_size\n",
    "        self.learning_rate = learning_rate\n",
    "        self.dr_keep_prob = dr_keep_prob\n",
    "        \n",
    "        self._build()\n",
    "        \n",
    "    def fit(self, X, y, batch_size, epochs):\n",
    "        optimizer = tf.train.RMSPropOptimizer(self.learning_rate).minimize(self.loss)\n",
    "        \n",
    "        with tf.Session() as session:\n",
    "            session.run(tf.global_variables_initializer())\n",
    "            \n",
    "            for _ in tqdm_notebook(range(epochs), desc='Epoch'):\n",
    "                for batch_X, batch_y in split_into_batches(X, y, batch_size):\n",
    "                    session.run(optimizer, feed_dict={self.X: batch_X, self.y: batch_y})\n",
    "    \n",
    "    def predict(self, X):\n",
    "        with tf.Session() as session:\n",
    "            session.run(tf.global_variables_initializer())\n",
    "            return session.run(self.y_pred, feed_dict={self.X: X})\n",
    "    \n",
    "    def _build(self):\n",
    "        tf.reset_default_graph()\n",
    "        \n",
    "        self.X = tf.placeholder(tf.float32, shape=[None, self.max_len, self.N_values], name=\"X\")\n",
    "        self.y = tf.placeholder(tf.float32, shape=[None, self.N_values], name=\"y\")\n",
    "        \n",
    "        lstm = rnn.MultiRNNCell([\n",
    "            rnn.DropoutWrapper(rnn.LSTMCell(self.inner_size), output_keep_prob=self.dr_keep_prob),\n",
    "            rnn.DropoutWrapper(rnn.LSTMCell(self.inner_size), output_keep_prob=self.dr_keep_prob)\n",
    "        ])\n",
    "        \n",
    "        outputs, _ = tf.nn.dynamic_rnn(lstm, self.X, dtype=tf.float32)\n",
    "        last_outputs = tf.transpose(outputs, perm=[1, 0, 2])[-1]\n",
    "        \n",
    "        self.y_pred = tf.layers.dense(last_outputs,\n",
    "                                      self.N_values,\n",
    "                                      activation=tf.nn.relu,\n",
    "                                      kernel_initializer=tf.contrib.layers.xavier_initializer(),\n",
    "                                      name=\"fully_connected\")\n",
    "\n",
    "        self.loss = tf.losses.softmax_cross_entropy(self.y, self.y_pred)"
   ]
  },
  {
   "cell_type": "markdown",
   "metadata": {},
   "source": [
    "## Running"
   ]
  },
  {
   "cell_type": "code",
   "execution_count": 6,
   "metadata": {
    "collapsed": true
   },
   "outputs": [],
   "source": [
    "def get_pretty_tensor_model(max_len, N_values):\n",
    "    return TensorflowModel(max_len, N_values, inner_size=128)"
   ]
  },
  {
   "cell_type": "code",
   "execution_count": 7,
   "metadata": {
    "collapsed": true
   },
   "outputs": [],
   "source": [
    "# get_model = get_keras_model\n",
    "get_model = get_pretty_tensor_model"
   ]
  },
  {
   "cell_type": "code",
   "execution_count": 8,
   "metadata": {
    "collapsed": true
   },
   "outputs": [],
   "source": [
    "def build_model(corpus, val_indices, max_len, N_epochs=128):\n",
    "    ''' Build a 2-layer LSTM from a training corpus '''\n",
    "    \n",
    "    # number of different values or words in corpus\n",
    "    N_values = len(set(corpus))\n",
    "\n",
    "    # cut the corpus into semi-redundant sequences of max_len values\n",
    "    step = 3\n",
    "    sentences = []\n",
    "    next_values = []\n",
    "    for i in range(0, len(corpus) - max_len, step):\n",
    "        sentences.append(corpus[i: i + max_len])\n",
    "        next_values.append(corpus[i + max_len])\n",
    "    print('nb sequences:', len(sentences))\n",
    "\n",
    "    # transform data into binary matrices\n",
    "    X = np.zeros((len(sentences), max_len, N_values), dtype=np.bool)\n",
    "    y = np.zeros((len(sentences), N_values), dtype=np.bool)\n",
    "    for i, sentence in enumerate(sentences):\n",
    "        for t, val in enumerate(sentence):\n",
    "            X[i, t, val_indices[val]] = 1\n",
    "        y[i, val_indices[next_values[i]]] = 1\n",
    "\n",
    "    model = get_model(max_len, N_values)\n",
    "    model.fit(X, y, batch_size=128, epochs=N_epochs)\n",
    "\n",
    "    return model"
   ]
  },
  {
   "cell_type": "code",
   "execution_count": 9,
   "metadata": {},
   "outputs": [
    {
     "name": "stdout",
     "output_type": "stream",
     "text": [
      "nb sequences: 58\n"
     ]
    },
    {
     "data": {
      "application/vnd.jupyter.widget-view+json": {
       "model_id": "cb10412253644697bc7d25afb19c2a64"
      }
     },
     "metadata": {},
     "output_type": "display_data"
    },
    {
     "name": "stdout",
     "output_type": "stream",
     "text": [
      "\n",
      "After pruning: 14 notes\n",
      "After pruning: 14 notes\n",
      "After pruning: 15 notes\n",
      "After pruning: 14 notes\n",
      "After pruning: 13 notes\n",
      "After pruning: 11 notes\n",
      "After pruning: 13 notes\n",
      "After pruning: 13 notes\n",
      "After pruning: 13 notes\n",
      "After pruning: 15 notes\n",
      "After pruning: 13 notes\n",
      "After pruning: 15 notes\n",
      "After pruning: 15 notes\n",
      "After pruning: 11 notes\n",
      "After pruning: 13 notes\n",
      "After pruning: 14 notes\n",
      "After pruning: 9 notes\n",
      "After pruning: 11 notes\n"
     ]
    }
   ],
   "source": [
    "# build model\n",
    "model = build_model(corpus=corpus, val_indices=val_indices,\n",
    "                         max_len=max_len, N_epochs=N_epochs)\n",
    "\n",
    "# set up audio stream\n",
    "out_stream = stream.Stream()\n",
    "\n",
    "# generation loop\n",
    "curr_offset = 0.0\n",
    "loopEnd = len(chords)\n",
    "for loopIndex in range(1, loopEnd):\n",
    "    # get chords from file\n",
    "    curr_chords = stream.Voice()\n",
    "    for j in chords[loopIndex]:\n",
    "        curr_chords.insert((j.offset % 4), j)\n",
    "\n",
    "    # generate grammar\n",
    "    curr_grammar = __generate_grammar(model=model, corpus=corpus,\n",
    "                                      abstract_grammars=abstract_grammars,\n",
    "                                      values=values, val_indices=val_indices,\n",
    "                                      indices_val=indices_val,\n",
    "                                      max_len=max_len, max_tries=max_tries,\n",
    "                                      diversity=diversity)\n",
    "\n",
    "    curr_grammar = curr_grammar.replace(' A', ' C').replace(' X', ' C')\n",
    "\n",
    "    # Pruning #1: smoothing measure\n",
    "    curr_grammar = prune_grammar(curr_grammar)\n",
    "\n",
    "    # Get notes from grammar and chords\n",
    "    curr_notes = unparse_grammar(curr_grammar, curr_chords)\n",
    "\n",
    "    # Pruning #2: removing repeated and too close together notes\n",
    "    curr_notes = prune_notes(curr_notes)\n",
    "\n",
    "    # quality assurance: clean up notes\n",
    "    curr_notes = clean_up_notes(curr_notes)\n",
    "\n",
    "    # print # of notes in curr_notes\n",
    "    print('After pruning: %s notes' % (len([i for i in curr_notes\n",
    "                                            if isinstance(i, note.Note)])))\n",
    "\n",
    "    # insert into the output stream\n",
    "    for m in curr_notes:\n",
    "        out_stream.insert(curr_offset + m.offset, m)\n",
    "    for mc in curr_chords:\n",
    "        out_stream.insert(curr_offset + mc.offset, mc)\n",
    "\n",
    "    curr_offset += 4.0\n",
    "\n",
    "out_stream.insert(0.0, tempo.MetronomeMark(number=bpm))\n",
    "\n",
    "# Play the final stream through output (see 'play' lambda function above)\n",
    "# play = lambda x: midi.realtime.StreamPlayer(x).play()\n",
    "# play(out_stream)\n",
    "\n",
    "# save stream\n",
    "mf = midi.translate.streamToMidiFile(out_stream)\n",
    "mf.open(out_fn, 'wb')\n",
    "mf.write()\n",
    "mf.close()    "
   ]
  },
  {
   "cell_type": "markdown",
   "metadata": {},
   "source": [
    "You can play generated sample using any midi player\n",
    "\n",
    "Under linux I prefer timidity"
   ]
  },
  {
   "cell_type": "code",
   "execution_count": null,
   "metadata": {
    "collapsed": true
   },
   "outputs": [],
   "source": [
    "!! timidity midi/deepjazz_on_metheny...128_epochs.midi"
   ]
  }
 ],
 "metadata": {
  "kernelspec": {
   "display_name": "Python 3",
   "language": "python",
   "name": "python3"
  },
  "language_info": {
   "codemirror_mode": {
    "name": "ipython",
    "version": 3
   },
   "file_extension": ".py",
   "mimetype": "text/x-python",
   "name": "python",
   "nbconvert_exporter": "python",
   "pygments_lexer": "ipython3",
   "version": "3.6.1"
  }
 },
 "nbformat": 4,
 "nbformat_minor": 2
}
