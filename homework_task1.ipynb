{
 "cells": [
  {
   "cell_type": "code",
   "execution_count": 1,
   "metadata": {
    "collapsed": true
   },
   "outputs": [],
   "source": [
    "import tensorflow as tf\n",
    "import numpy as np\n",
    "import math"
   ]
  },
  {
   "cell_type": "markdown",
   "metadata": {},
   "source": [
    "Hint: Use dtype=tf.float64 if you want to have same precision as numpy for testing<br>\n",
    "Hint: You migth wanna use tf.InterativeSession for convenience"
   ]
  },
  {
   "cell_type": "markdown",
   "metadata": {},
   "source": [
    "1a: Create two random 0-d tensors x and y of any distribution. <br>\n",
    "Create a TensorFlow object that returns x + y if x > y, and x - y otherwise. <br>\n",
    "Hint: look up tf.cond() <br>\n",
    "I do the first problem for you <br>"
   ]
  },
  {
   "cell_type": "code",
   "execution_count": 2,
   "metadata": {
    "collapsed": true
   },
   "outputs": [],
   "source": [
    "def task_1a_np(x, y):\n",
    "    return np.where(x > y, x + y, x - y)"
   ]
  },
  {
   "cell_type": "code",
   "execution_count": 3,
   "metadata": {
    "collapsed": true
   },
   "outputs": [],
   "source": [
    "X = tf.placeholder(tf.float64, name=\"X\")\n",
    "Y = tf.placeholder(tf.float64, name=\"Y\")\n",
    "out = tf.cond(X > Y, lambda: X + Y, lambda: X - Y)"
   ]
  },
  {
   "cell_type": "code",
   "execution_count": 4,
   "metadata": {},
   "outputs": [
    {
     "name": "stdout",
     "output_type": "stream",
     "text": [
      "Success\n"
     ]
    }
   ],
   "source": [
    "with tf.Session() as sess:\n",
    "    for xx, yy in np.random.uniform(size=(50, 2)):\n",
    "        actual = sess.run(out, feed_dict={X:xx, Y:yy})\n",
    "        expected = task_1a_np(xx, yy)\n",
    "        if actual != expected:\n",
    "            print('Fail')\n",
    "    else:\n",
    "        print('Success')"
   ]
  },
  {
   "cell_type": "markdown",
   "metadata": {},
   "source": [
    "1b: Create two 0-d tensors x and y randomly selected from the range [-1, 1).<br>\n",
    "Return x + y if x < y, x - y if x > y, 0 otherwise.<br>\n",
    "Hint: Look up tf.case().<br>"
   ]
  },
  {
   "cell_type": "code",
   "execution_count": 5,
   "metadata": {
    "collapsed": true
   },
   "outputs": [],
   "source": [
    "def task_1b_np(x, y):\n",
    "    return np.select(condlist=[x < y, x > y],\n",
    "                     choicelist=[x + y, x - y],\n",
    "                     default=0)"
   ]
  },
  {
   "cell_type": "code",
   "execution_count": 6,
   "metadata": {},
   "outputs": [],
   "source": [
    "X = tf.placeholder(tf.float64, name=\"X\")\n",
    "Y = tf.placeholder(tf.float64, name=\"Y\")\n",
    "out = tf.case([(X > Y, lambda: X - Y), (X < Y, lambda: X + Y)],\n",
    "    default=lambda: tf.constant(0.0, tf.float64))"
   ]
  },
  {
   "cell_type": "code",
   "execution_count": 7,
   "metadata": {},
   "outputs": [
    {
     "name": "stdout",
     "output_type": "stream",
     "text": [
      "Success\n"
     ]
    }
   ],
   "source": [
    "with tf.Session() as sess:\n",
    "    for xx, yy in np.random.uniform(low=-1.0, size=(50, 2)):\n",
    "        actual = sess.run(out, feed_dict={X:xx, Y:yy})\n",
    "        expected = task_1b_np(xx, yy)\n",
    "        if actual != expected:\n",
    "            print('Fail')\n",
    "    else:\n",
    "        print('Success')"
   ]
  },
  {
   "cell_type": "markdown",
   "metadata": {},
   "source": [
    "1c: Create the tensor x of the value [[0, -2, -1], [0, 1, 2]] <br>\n",
    "and y as a tensor of zeros with the same shape as x. <br>\n",
    "Return a boolean tensor that yields Trues if x equals y element-wise. <br>\n",
    "Hint: Look up tf.equal(). <br>"
   ]
  },
  {
   "cell_type": "code",
   "execution_count": 8,
   "metadata": {
    "collapsed": true
   },
   "outputs": [],
   "source": [
    "def task_1c_np():\n",
    "    x = np.array([[0, -2, -1], [0, 1, 2]])\n",
    "    y = np.zeros_like(x)\n",
    "    return x == y"
   ]
  },
  {
   "cell_type": "code",
   "execution_count": 9,
   "metadata": {},
   "outputs": [],
   "source": [
    "X = tf.constant([[0, -2, -1], [0, 1, 2]], tf.float64, name=\"X\")\n",
    "Y = tf.zeros([2, 3], tf.float64, name=\"Y\")\n",
    "out = tf.equal(X, Y)"
   ]
  },
  {
   "cell_type": "code",
   "execution_count": 10,
   "metadata": {},
   "outputs": [
    {
     "name": "stdout",
     "output_type": "stream",
     "text": [
      "Success\n"
     ]
    }
   ],
   "source": [
    "session = tf.InteractiveSession()\n",
    "print('Success' if np.all(out.eval() == task_1c_np()) else 'Fail')\n",
    "session.close()"
   ]
  },
  {
   "cell_type": "markdown",
   "metadata": {},
   "source": [
    "1d:<br>\n",
    "Get the indices of elements in x whose values are greater than 30.<br>\n",
    "Hint: Use tf.where().<br>\n",
    "Then extract elements whose values are greater than 30.<br>\n",
    "Hint: Use tf.gather().<br>"
   ]
  },
  {
   "cell_type": "code",
   "execution_count": 11,
   "metadata": {
    "collapsed": true
   },
   "outputs": [],
   "source": [
    "def task_1d_np(x):\n",
    "    return x[x > 30].reshape(-1, 1)"
   ]
  },
  {
   "cell_type": "code",
   "execution_count": 12,
   "metadata": {},
   "outputs": [],
   "source": [
    "X = tf.placeholder(tf.float64, shape=(10, 2), name=\"X\")\n",
    "ind = tf.where(X > 30, name=\"indexes\")\n",
    "out = tf.reshape(tf.gather_nd(X, ind), [-1, 1])"
   ]
  },
  {
   "cell_type": "code",
   "execution_count": 13,
   "metadata": {},
   "outputs": [
    {
     "name": "stdout",
     "output_type": "stream",
     "text": [
      "Success\n"
     ]
    }
   ],
   "source": [
    "with tf.Session() as sess:\n",
    "    xx = np.random.uniform(high=50, size=(10, 2))\n",
    "    actual = sess.run(out, feed_dict={X:xx})\n",
    "    expected = task_1d_np(xx)\n",
    "    \n",
    "    if np.any(actual != expected):\n",
    "        print('Fail')\n",
    "    else:\n",
    "        print('Success')"
   ]
  },
  {
   "cell_type": "markdown",
   "metadata": {},
   "source": [
    "1e: Create a diagnoal 2-d tensor of size 6 x 6 with the diagonal values of 1,<br>\n",
    "2, ..., 6<br>\n",
    "Hint: Use tf.range() and tf.diag().<br>"
   ]
  },
  {
   "cell_type": "code",
   "execution_count": 14,
   "metadata": {
    "collapsed": true
   },
   "outputs": [],
   "source": [
    "def task_1e_np():\n",
    "    return np.diag(np.arange(1, 7))"
   ]
  },
  {
   "cell_type": "code",
   "execution_count": 15,
   "metadata": {
    "collapsed": true
   },
   "outputs": [],
   "source": [
    "out = tf.diag(tf.range(1, 7))"
   ]
  },
  {
   "cell_type": "code",
   "execution_count": 16,
   "metadata": {},
   "outputs": [
    {
     "name": "stdout",
     "output_type": "stream",
     "text": [
      "Success\n"
     ]
    }
   ],
   "source": [
    "session = tf.InteractiveSession()\n",
    "print('Success' if np.all(out.eval() == task_1e_np()) else 'Fail')\n",
    "session.close()"
   ]
  },
  {
   "cell_type": "markdown",
   "metadata": {},
   "source": [
    "1f: Create a random 2-d tensor of size 10 x 10 from any distribution.<br>\n",
    "Calculate its determinant.<br>\n",
    "Hint: Look at tf.matrix_determinant().<br>"
   ]
  },
  {
   "cell_type": "code",
   "execution_count": 17,
   "metadata": {
    "collapsed": true
   },
   "outputs": [],
   "source": [
    "def task_1f_np(x):\n",
    "    return np.linalg.det(x)"
   ]
  },
  {
   "cell_type": "code",
   "execution_count": 18,
   "metadata": {
    "collapsed": true
   },
   "outputs": [],
   "source": [
    "X = tf.placeholder(tf.float64, shape=(10, 10), name=\"X\")\n",
    "out = tf.matrix_determinant(X)"
   ]
  },
  {
   "cell_type": "code",
   "execution_count": 19,
   "metadata": {},
   "outputs": [
    {
     "name": "stdout",
     "output_type": "stream",
     "text": [
      "Success\n"
     ]
    }
   ],
   "source": [
    "with tf.Session() as sess:\n",
    "    xx = np.random.uniform(size=(10, 10))\n",
    "    \n",
    "    actual = sess.run(out, feed_dict={X:xx})\n",
    "    expected = task_1f_np(xx)\n",
    "    \n",
    "    if abs(actual - expected) > 1e-9:\n",
    "        print('Fail')\n",
    "    else:\n",
    "        print('Success')"
   ]
  },
  {
   "cell_type": "markdown",
   "metadata": {},
   "source": [
    "1g: Create tensor x with value [5, 2, 3, 5, 10, 6, 2, 3, 4, 2, 1, 1, 0, 9].<br>\n",
    "Return the unique elements in x<br>\n",
    "Hint: use tf.unique(). Keep in mind that tf.unique() returns a tuple.<br>"
   ]
  },
  {
   "cell_type": "code",
   "execution_count": 20,
   "metadata": {
    "collapsed": true
   },
   "outputs": [],
   "source": [
    "def task_1g_np():\n",
    "    x = [5, 2, 3, 5, 10, 6, 2, 3, 4, 2, 1, 1, 0, 9]\n",
    "    _, idx = np.unique(x, return_index=True)\n",
    "    return np.take(x, sorted(idx))"
   ]
  },
  {
   "cell_type": "code",
   "execution_count": 21,
   "metadata": {},
   "outputs": [],
   "source": [
    "X = tf.constant([5, 2, 3, 5, 10, 6, 2, 3, 4, 2, 1, 1, 0, 9], name=\"X\")\n",
    "y, idx = tf.unique(X)"
   ]
  },
  {
   "cell_type": "code",
   "execution_count": 22,
   "metadata": {},
   "outputs": [
    {
     "name": "stdout",
     "output_type": "stream",
     "text": [
      "Success\n"
     ]
    }
   ],
   "source": [
    "session = tf.InteractiveSession()\n",
    "print('Success' if np.all(y.eval() == task_1g_np()) else 'Fail')\n",
    "session.close()"
   ]
  },
  {
   "cell_type": "markdown",
   "metadata": {},
   "source": [
    "1h: Create two tensors x and y of shape 300 from any normal distribution,<br>\n",
    "as long as they are from the same distribution.<br>\n",
    "Use tf.cond() to return:<br>\n",
    "- The mean squared error of (x - y) if the average of all elements in (x - y)<br>\n",
    "  is negative, or<br>\n",
    "- The sum of absolute value of all elements in the tensor (x - y) otherwise.<br>\n",
    "Hint: see the Huber loss function in the lecture slides 3.<br>"
   ]
  },
  {
   "cell_type": "code",
   "execution_count": 23,
   "metadata": {
    "collapsed": true
   },
   "outputs": [],
   "source": [
    "def task_1h_np(x, y):\n",
    "    average = np.mean(x - y)\n",
    "    mse = np.mean((x - y) ** 2)\n",
    "    asum = np.sum(np.abs(x - y))\n",
    "    return mse if average < 0 else asum"
   ]
  },
  {
   "cell_type": "code",
   "execution_count": 24,
   "metadata": {},
   "outputs": [],
   "source": [
    "X = tf.placeholder(tf.float64, shape=300, name=\"X\")\n",
    "Y = tf.placeholder(tf.float64, shape=300, name=\"Y\")\n",
    "residual = X - Y\n",
    "mean = tf.reduce_mean(residual, name=\"mean\")\n",
    "mse = tf.reduce_mean(tf.square(residual), name=\"mse\")\n",
    "out = tf.where(mean < 0, mse, tf.reduce_sum(tf.abs(residual)))"
   ]
  },
  {
   "cell_type": "code",
   "execution_count": 25,
   "metadata": {},
   "outputs": [
    {
     "name": "stdout",
     "output_type": "stream",
     "text": [
      "Success\n"
     ]
    }
   ],
   "source": [
    "with tf.Session() as sess:\n",
    "    xx = np.random.normal(size=300)\n",
    "    yy = np.random.normal(size=300)\n",
    "    \n",
    "    actual = sess.run(out, feed_dict={X:xx, Y:yy})\n",
    "    expected = task_1h_np(xx, yy)\n",
    "    \n",
    "    if abs(actual - expected) > 1e-9:\n",
    "        print('Fail')\n",
    "    else:\n",
    "        print('Success')"
   ]
  }
 ],
 "metadata": {
  "kernelspec": {
   "display_name": "Python 3",
   "language": "python",
   "name": "python3"
  },
  "language_info": {
   "codemirror_mode": {
    "name": "ipython",
    "version": 3
   },
   "file_extension": ".py",
   "mimetype": "text/x-python",
   "name": "python",
   "nbconvert_exporter": "python",
   "pygments_lexer": "ipython3",
   "version": "3.6.1"
  }
 },
 "nbformat": 4,
 "nbformat_minor": 2
}
