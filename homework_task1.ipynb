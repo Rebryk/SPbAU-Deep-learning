{
 "cells": [
  {
   "cell_type": "code",
   "execution_count": 1,
   "metadata": {
    "collapsed": true
   },
   "outputs": [],
   "source": [
    "import tensorflow as tf\n",
    "import numpy as np\n",
    "import math"
   ]
  },
  {
   "cell_type": "markdown",
   "metadata": {},
   "source": [
    "Hint: Use dtype=tf.float64 if you want to have same precision as numpy for testing<br>\n",
    "Hint: You migth wanna use tf.InterativeSession for convenience"
   ]
  },
  {
   "cell_type": "markdown",
   "metadata": {},
   "source": [
    "1a: Create two random 0-d tensors x and y of any distribution. <br>\n",
    "Create a TensorFlow object that returns x + y if x > y, and x - y otherwise. <br>\n",
    "Hint: look up tf.cond() <br>\n",
    "I do the first problem for you <br>"
   ]
  },
  {
   "cell_type": "code",
   "execution_count": 74,
   "metadata": {
    "collapsed": true
   },
   "outputs": [],
   "source": [
    "def task_1a_np(x, y):\n",
    "    return np.where(x > y, x + y, x - y)"
   ]
  },
  {
   "cell_type": "code",
   "execution_count": 159,
   "metadata": {
    "collapsed": true
   },
   "outputs": [],
   "source": [
    "X = tf.placeholder(tf.float64, name=\"X\")\n",
    "Y = tf.placeholder(tf.float64, name=\"Y\")\n",
    "out = tf.cond(X > Y, lambda: X + Y, lambda: X - Y)"
   ]
  },
  {
   "cell_type": "code",
   "execution_count": 158,
   "metadata": {},
   "outputs": [
    {
     "ename": "ValueError",
     "evalue": "Cannot feed value of shape () for Tensor 'X_6:0', which has shape '(300,)'",
     "output_type": "error",
     "traceback": [
      "\u001b[0;31m---------------------------------------------------------------------------\u001b[0m",
      "\u001b[0;31mValueError\u001b[0m                                Traceback (most recent call last)",
      "\u001b[0;32m<ipython-input-158-49eaffcb6ef7>\u001b[0m in \u001b[0;36m<module>\u001b[0;34m()\u001b[0m\n\u001b[1;32m      1\u001b[0m \u001b[0;32mwith\u001b[0m \u001b[0mtf\u001b[0m\u001b[0;34m.\u001b[0m\u001b[0mSession\u001b[0m\u001b[0;34m(\u001b[0m\u001b[0;34m)\u001b[0m \u001b[0;32mas\u001b[0m \u001b[0msess\u001b[0m\u001b[0;34m:\u001b[0m\u001b[0;34m\u001b[0m\u001b[0m\n\u001b[1;32m      2\u001b[0m     \u001b[0;32mfor\u001b[0m \u001b[0mxx\u001b[0m\u001b[0;34m,\u001b[0m \u001b[0myy\u001b[0m \u001b[0;32min\u001b[0m \u001b[0mnp\u001b[0m\u001b[0;34m.\u001b[0m\u001b[0mrandom\u001b[0m\u001b[0;34m.\u001b[0m\u001b[0muniform\u001b[0m\u001b[0;34m(\u001b[0m\u001b[0msize\u001b[0m\u001b[0;34m=\u001b[0m\u001b[0;34m(\u001b[0m\u001b[0;36m50\u001b[0m\u001b[0;34m,\u001b[0m \u001b[0;36m2\u001b[0m\u001b[0;34m)\u001b[0m\u001b[0;34m)\u001b[0m\u001b[0;34m:\u001b[0m\u001b[0;34m\u001b[0m\u001b[0m\n\u001b[0;32m----> 3\u001b[0;31m         \u001b[0mactual\u001b[0m \u001b[0;34m=\u001b[0m \u001b[0msess\u001b[0m\u001b[0;34m.\u001b[0m\u001b[0mrun\u001b[0m\u001b[0;34m(\u001b[0m\u001b[0mout\u001b[0m\u001b[0;34m,\u001b[0m \u001b[0mfeed_dict\u001b[0m\u001b[0;34m=\u001b[0m\u001b[0;34m{\u001b[0m\u001b[0mX\u001b[0m\u001b[0;34m:\u001b[0m\u001b[0mxx\u001b[0m\u001b[0;34m,\u001b[0m \u001b[0mY\u001b[0m\u001b[0;34m:\u001b[0m\u001b[0myy\u001b[0m\u001b[0;34m}\u001b[0m\u001b[0;34m)\u001b[0m\u001b[0;34m\u001b[0m\u001b[0m\n\u001b[0m\u001b[1;32m      4\u001b[0m         \u001b[0mexpected\u001b[0m \u001b[0;34m=\u001b[0m \u001b[0mtask_1a_np\u001b[0m\u001b[0;34m(\u001b[0m\u001b[0mxx\u001b[0m\u001b[0;34m,\u001b[0m \u001b[0myy\u001b[0m\u001b[0;34m)\u001b[0m\u001b[0;34m\u001b[0m\u001b[0m\n\u001b[1;32m      5\u001b[0m         \u001b[0;32mif\u001b[0m \u001b[0mactual\u001b[0m \u001b[0;34m!=\u001b[0m \u001b[0mexpected\u001b[0m\u001b[0;34m:\u001b[0m\u001b[0;34m\u001b[0m\u001b[0m\n",
      "\u001b[0;32m/home/y_rebryk/anaconda3/lib/python3.6/site-packages/tensorflow/python/client/session.py\u001b[0m in \u001b[0;36mrun\u001b[0;34m(self, fetches, feed_dict, options, run_metadata)\u001b[0m\n\u001b[1;32m    787\u001b[0m     \u001b[0;32mtry\u001b[0m\u001b[0;34m:\u001b[0m\u001b[0;34m\u001b[0m\u001b[0m\n\u001b[1;32m    788\u001b[0m       result = self._run(None, fetches, feed_dict, options_ptr,\n\u001b[0;32m--> 789\u001b[0;31m                          run_metadata_ptr)\n\u001b[0m\u001b[1;32m    790\u001b[0m       \u001b[0;32mif\u001b[0m \u001b[0mrun_metadata\u001b[0m\u001b[0;34m:\u001b[0m\u001b[0;34m\u001b[0m\u001b[0m\n\u001b[1;32m    791\u001b[0m         \u001b[0mproto_data\u001b[0m \u001b[0;34m=\u001b[0m \u001b[0mtf_session\u001b[0m\u001b[0;34m.\u001b[0m\u001b[0mTF_GetBuffer\u001b[0m\u001b[0;34m(\u001b[0m\u001b[0mrun_metadata_ptr\u001b[0m\u001b[0;34m)\u001b[0m\u001b[0;34m\u001b[0m\u001b[0m\n",
      "\u001b[0;32m/home/y_rebryk/anaconda3/lib/python3.6/site-packages/tensorflow/python/client/session.py\u001b[0m in \u001b[0;36m_run\u001b[0;34m(self, handle, fetches, feed_dict, options, run_metadata)\u001b[0m\n\u001b[1;32m    973\u001b[0m                 \u001b[0;34m'Cannot feed value of shape %r for Tensor %r, '\u001b[0m\u001b[0;34m\u001b[0m\u001b[0m\n\u001b[1;32m    974\u001b[0m                 \u001b[0;34m'which has shape %r'\u001b[0m\u001b[0;34m\u001b[0m\u001b[0m\n\u001b[0;32m--> 975\u001b[0;31m                 % (np_val.shape, subfeed_t.name, str(subfeed_t.get_shape())))\n\u001b[0m\u001b[1;32m    976\u001b[0m           \u001b[0;32mif\u001b[0m \u001b[0;32mnot\u001b[0m \u001b[0mself\u001b[0m\u001b[0;34m.\u001b[0m\u001b[0mgraph\u001b[0m\u001b[0;34m.\u001b[0m\u001b[0mis_feedable\u001b[0m\u001b[0;34m(\u001b[0m\u001b[0msubfeed_t\u001b[0m\u001b[0;34m)\u001b[0m\u001b[0;34m:\u001b[0m\u001b[0;34m\u001b[0m\u001b[0m\n\u001b[1;32m    977\u001b[0m             \u001b[0;32mraise\u001b[0m \u001b[0mValueError\u001b[0m\u001b[0;34m(\u001b[0m\u001b[0;34m'Tensor %s may not be fed.'\u001b[0m \u001b[0;34m%\u001b[0m \u001b[0msubfeed_t\u001b[0m\u001b[0;34m)\u001b[0m\u001b[0;34m\u001b[0m\u001b[0m\n",
      "\u001b[0;31mValueError\u001b[0m: Cannot feed value of shape () for Tensor 'X_6:0', which has shape '(300,)'"
     ]
    }
   ],
   "source": [
    "with tf.Session() as sess:\n",
    "    for xx, yy in np.random.uniform(size=(50, 2)):\n",
    "        actual = sess.run(out, feed_dict={X:xx, Y:yy})\n",
    "        expected = task_1a_np(xx, yy)\n",
    "        if actual != expected:\n",
    "            print('Fail')\n",
    "    else:\n",
    "        print('Success')"
   ]
  },
  {
   "cell_type": "markdown",
   "metadata": {},
   "source": [
    "1b: Create two 0-d tensors x and y randomly selected from the range [-1, 1).<br>\n",
    "Return x + y if x < y, x - y if x > y, 0 otherwise.<br>\n",
    "Hint: Look up tf.case().<br>"
   ]
  },
  {
   "cell_type": "code",
   "execution_count": 76,
   "metadata": {
    "collapsed": true
   },
   "outputs": [],
   "source": [
    "def task_1b_np(x, y):\n",
    "    return np.select(condlist=[x < y, x > y],\n",
    "                     choicelist=[x + y, x - y],\n",
    "                     default=0)"
   ]
  },
  {
   "cell_type": "code",
   "execution_count": 77,
   "metadata": {},
   "outputs": [],
   "source": [
    "X = tf.placeholder(tf.float64, name=\"X\")\n",
    "Y = tf.placeholder(tf.float64, name=\"Y\")\n",
    "out = tf.case([(X > Y, lambda: X - Y), (X < Y, lambda: X + Y)],\n",
    "    default=lambda: tf.constant(0.0, tf.float64))"
   ]
  },
  {
   "cell_type": "code",
   "execution_count": 78,
   "metadata": {},
   "outputs": [
    {
     "name": "stdout",
     "output_type": "stream",
     "text": [
      "Success\n"
     ]
    }
   ],
   "source": [
    "with tf.Session() as sess:\n",
    "    for xx, yy in np.random.uniform(low=-1.0, size=(50, 2)):\n",
    "        actual = sess.run(out, feed_dict={X:xx, Y:yy})\n",
    "        expected = task_1b_np(xx, yy)\n",
    "        if actual != expected:\n",
    "            print('Fail')\n",
    "    else:\n",
    "        print('Success')"
   ]
  },
  {
   "cell_type": "markdown",
   "metadata": {},
   "source": [
    "1c: Create the tensor x of the value [[0, -2, -1], [0, 1, 2]] <br>\n",
    "and y as a tensor of zeros with the same shape as x. <br>\n",
    "Return a boolean tensor that yields Trues if x equals y element-wise. <br>\n",
    "Hint: Look up tf.equal(). <br>"
   ]
  },
  {
   "cell_type": "code",
   "execution_count": 79,
   "metadata": {
    "collapsed": true
   },
   "outputs": [],
   "source": [
    "def task_1c_np():\n",
    "    x = np.array([[0, -2, -1], [0, 1, 2]])\n",
    "    y = np.zeros_like(x)\n",
    "    return x == y"
   ]
  },
  {
   "cell_type": "code",
   "execution_count": 80,
   "metadata": {},
   "outputs": [],
   "source": [
    "X = tf.constant([[0, -2, -1], [0, 1, 2]], tf.float64, name=\"X\")\n",
    "Y = tf.zeros([2, 3], tf.float64, name=\"Y\")\n",
    "out = tf.equal(X, Y)"
   ]
  },
  {
   "cell_type": "code",
   "execution_count": 81,
   "metadata": {},
   "outputs": [
    {
     "name": "stdout",
     "output_type": "stream",
     "text": [
      "Success\n"
     ]
    }
   ],
   "source": [
    "session = tf.InteractiveSession()\n",
    "print('Success' if np.all(out.eval() == task_1c_np()) else 'Fail')\n",
    "session.close()"
   ]
  },
  {
   "cell_type": "markdown",
   "metadata": {},
   "source": [
    "1d:<br>\n",
    "Get the indices of elements in x whose values are greater than 30.<br>\n",
    "Hint: Use tf.where().<br>\n",
    "Then extract elements whose values are greater than 30.<br>\n",
    "Hint: Use tf.gather().<br>"
   ]
  },
  {
   "cell_type": "code",
   "execution_count": 82,
   "metadata": {
    "collapsed": true
   },
   "outputs": [],
   "source": [
    "def task_1d_np(x):\n",
    "    return x[x > 30].reshape(-1, 1)"
   ]
  },
  {
   "cell_type": "code",
   "execution_count": 160,
   "metadata": {},
   "outputs": [],
   "source": [
    "X = tf.placeholder(tf.float64, shape=(10, 2), name=\"X\")\n",
    "ind = tf.where(X > 30, name=\"indexes\")\n",
    "out = tf.reshape(tf.gather_nd(X, ind), [-1, 1])"
   ]
  },
  {
   "cell_type": "code",
   "execution_count": 85,
   "metadata": {},
   "outputs": [
    {
     "name": "stdout",
     "output_type": "stream",
     "text": [
      "Success\n"
     ]
    }
   ],
   "source": [
    "with tf.Session() as sess:\n",
    "    xx = np.random.uniform(high=50, size=(10, 2))\n",
    "    actual = sess.run(out, feed_dict={X:xx})\n",
    "    expected = task_1d_np(xx)\n",
    "    \n",
    "    if np.any(actual != expected):\n",
    "        print('Fail')\n",
    "    else:\n",
    "        print('Success')"
   ]
  },
  {
   "cell_type": "markdown",
   "metadata": {},
   "source": [
    "1e: Create a diagnoal 2-d tensor of size 6 x 6 with the diagonal values of 1,<br>\n",
    "2, ..., 6<br>\n",
    "Hint: Use tf.range() and tf.diag().<br>"
   ]
  },
  {
   "cell_type": "code",
   "execution_count": 87,
   "metadata": {
    "collapsed": true
   },
   "outputs": [],
   "source": [
    "def task_1e_np():\n",
    "    return np.diag(np.arange(1, 7))"
   ]
  },
  {
   "cell_type": "code",
   "execution_count": 89,
   "metadata": {
    "collapsed": true
   },
   "outputs": [],
   "source": [
    "out = tf.diag(tf.range(1, 7))"
   ]
  },
  {
   "cell_type": "code",
   "execution_count": 90,
   "metadata": {},
   "outputs": [
    {
     "name": "stdout",
     "output_type": "stream",
     "text": [
      "Success\n"
     ]
    }
   ],
   "source": [
    "session = tf.InteractiveSession()\n",
    "print('Success' if np.all(out.eval() == task_1e_np()) else 'Fail')\n",
    "session.close()"
   ]
  },
  {
   "cell_type": "markdown",
   "metadata": {},
   "source": [
    "1f: Create a random 2-d tensor of size 10 x 10 from any distribution.<br>\n",
    "Calculate its determinant.<br>\n",
    "Hint: Look at tf.matrix_determinant().<br>"
   ]
  },
  {
   "cell_type": "code",
   "execution_count": 93,
   "metadata": {
    "collapsed": true
   },
   "outputs": [],
   "source": [
    "def task_1f_np(x):\n",
    "    return np.linalg.det(x)"
   ]
  },
  {
   "cell_type": "code",
   "execution_count": 96,
   "metadata": {
    "collapsed": true
   },
   "outputs": [],
   "source": [
    "X = tf.placeholder(tf.float64, shape=(10, 10))\n",
    "out = tf.matrix_determinant(X)"
   ]
  },
  {
   "cell_type": "code",
   "execution_count": 110,
   "metadata": {},
   "outputs": [
    {
     "name": "stdout",
     "output_type": "stream",
     "text": [
      "Success\n"
     ]
    }
   ],
   "source": [
    "with tf.Session() as sess:\n",
    "    xx = np.random.uniform(size=(10, 10))\n",
    "    \n",
    "    actual = sess.run(out, feed_dict={X:xx})\n",
    "    expected = task_1f_np(xx)\n",
    "    \n",
    "    if abs(actual - expected) > 1e-9:\n",
    "        print('Fail')\n",
    "    else:\n",
    "        print('Success')"
   ]
  },
  {
   "cell_type": "markdown",
   "metadata": {},
   "source": [
    "1g: Create tensor x with value [5, 2, 3, 5, 10, 6, 2, 3, 4, 2, 1, 1, 0, 9].<br>\n",
    "Return the unique elements in x<br>\n",
    "Hint: use tf.unique(). Keep in mind that tf.unique() returns a tuple.<br>"
   ]
  },
  {
   "cell_type": "code",
   "execution_count": 115,
   "metadata": {
    "collapsed": true
   },
   "outputs": [],
   "source": [
    "def task_1g_np():\n",
    "    x = [5, 2, 3, 5, 10, 6, 2, 3, 4, 2, 1, 1, 0, 9]\n",
    "    _, idx = np.unique(x, return_index=True)\n",
    "    return np.take(x, sorted(idx))"
   ]
  },
  {
   "cell_type": "code",
   "execution_count": 129,
   "metadata": {},
   "outputs": [],
   "source": [
    "X = tf.constant([5, 2, 3, 5, 10, 6, 2, 3, 4, 2, 1, 1, 0, 9])\n",
    "y, idx = tf.unique(X)"
   ]
  },
  {
   "cell_type": "code",
   "execution_count": 130,
   "metadata": {},
   "outputs": [
    {
     "name": "stdout",
     "output_type": "stream",
     "text": [
      "Success\n"
     ]
    }
   ],
   "source": [
    "session = tf.InteractiveSession()\n",
    "print('Success' if np.all(y.eval() == task_1g_np()) else 'Fail')\n",
    "session.close()"
   ]
  },
  {
   "cell_type": "markdown",
   "metadata": {},
   "source": [
    "1h: Create two tensors x and y of shape 300 from any normal distribution,<br>\n",
    "as long as they are from the same distribution.<br>\n",
    "Use tf.cond() to return:<br>\n",
    "- The mean squared error of (x - y) if the average of all elements in (x - y)<br>\n",
    "  is negative, or<br>\n",
    "- The sum of absolute value of all elements in the tensor (x - y) otherwise.<br>\n",
    "Hint: see the Huber loss function in the lecture slides 3.<br>"
   ]
  },
  {
   "cell_type": "code",
   "execution_count": 139,
   "metadata": {
    "collapsed": true
   },
   "outputs": [],
   "source": [
    "def task_1h_np(x, y):\n",
    "    average = np.mean(x - y)\n",
    "    mse = np.mean((x - y) ** 2)\n",
    "    asum = np.sum(np.abs(x - y))\n",
    "    return mse if average < 0 else asum"
   ]
  },
  {
   "cell_type": "code",
   "execution_count": 140,
   "metadata": {},
   "outputs": [],
   "source": [
    "X = tf.placeholder(tf.float64, shape=300, name=\"X\")\n",
    "Y = tf.placeholder(tf.float64, shape=300, name=\"Y\")\n",
    "residual = X - Y\n",
    "mean = tf.reduce_mean(residual, name=\"mean\")\n",
    "mse = tf.reduce_mean(tf.square(residual), name=\"mse\")\n",
    "out = tf.where(mean < 0, mse, tf.reduce_sum(tf.abs(residual)))"
   ]
  },
  {
   "cell_type": "code",
   "execution_count": 157,
   "metadata": {},
   "outputs": [
    {
     "name": "stdout",
     "output_type": "stream",
     "text": [
      "Success\n"
     ]
    }
   ],
   "source": [
    "with tf.Session() as sess:\n",
    "    xx = np.random.normal(size=300)\n",
    "    yy = np.random.normal(size=300)\n",
    "    \n",
    "    actual = sess.run(out, feed_dict={X:xx, Y:yy})\n",
    "    expected = task_1h_np(xx, yy)\n",
    "    \n",
    "    if abs(actual - expected) > 1e-9:\n",
    "        print('Fail')\n",
    "    else:\n",
    "        print('Success')"
   ]
  }
 ],
 "metadata": {
  "kernelspec": {
   "display_name": "Python 3",
   "language": "python",
   "name": "python3"
  },
  "language_info": {
   "codemirror_mode": {
    "name": "ipython",
    "version": 3
   },
   "file_extension": ".py",
   "mimetype": "text/x-python",
   "name": "python",
   "nbconvert_exporter": "python",
   "pygments_lexer": "ipython3",
   "version": "3.6.1"
  }
 },
 "nbformat": 4,
 "nbformat_minor": 2
}
