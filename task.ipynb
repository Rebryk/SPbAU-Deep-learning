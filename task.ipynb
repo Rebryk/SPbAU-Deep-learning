{
 "cells": [
  {
   "cell_type": "code",
   "execution_count": 1,
   "metadata": {
    "collapsed": true
   },
   "outputs": [],
   "source": [
    "%matplotlib inline\n",
    "import matplotlib.pyplot as plt\n",
    "import tensorflow as tf\n",
    "import numpy as np\n",
    "import time\n",
    "from datetime import timedelta\n",
    "import math\n",
    "import os"
   ]
  },
  {
   "cell_type": "markdown",
   "metadata": {},
   "source": [
    "## Load Data"
   ]
  },
  {
   "cell_type": "code",
   "execution_count": 2,
   "metadata": {
    "collapsed": true
   },
   "outputs": [],
   "source": [
    "import cifar10\n",
    "from cifar10 import img_size, num_channels, num_classes"
   ]
  },
  {
   "cell_type": "code",
   "execution_count": 3,
   "metadata": {},
   "outputs": [
    {
     "name": "stdout",
     "output_type": "stream",
     "text": [
      "Loading data: data/CIFAR-10/cifar-10-batches-py/batches.meta\n"
     ]
    },
    {
     "data": {
      "text/plain": [
       "['airplane',\n",
       " 'automobile',\n",
       " 'bird',\n",
       " 'cat',\n",
       " 'deer',\n",
       " 'dog',\n",
       " 'frog',\n",
       " 'horse',\n",
       " 'ship',\n",
       " 'truck']"
      ]
     },
     "execution_count": 3,
     "metadata": {},
     "output_type": "execute_result"
    }
   ],
   "source": [
    "class_names = cifar10.load_class_names()\n",
    "class_names"
   ]
  },
  {
   "cell_type": "markdown",
   "metadata": {},
   "source": [
    "Load the training-set. This returns the images, the class-numbers as integers, and the class-numbers as One-Hot encoded arrays called labels. <br>\n",
    "Load the test-set."
   ]
  },
  {
   "cell_type": "code",
   "execution_count": 4,
   "metadata": {},
   "outputs": [
    {
     "name": "stdout",
     "output_type": "stream",
     "text": [
      "Loading data: data/CIFAR-10/cifar-10-batches-py/data_batch_1\n",
      "Loading data: data/CIFAR-10/cifar-10-batches-py/data_batch_2\n",
      "Loading data: data/CIFAR-10/cifar-10-batches-py/data_batch_3\n",
      "Loading data: data/CIFAR-10/cifar-10-batches-py/data_batch_4\n",
      "Loading data: data/CIFAR-10/cifar-10-batches-py/data_batch_5\n",
      "Loading data: data/CIFAR-10/cifar-10-batches-py/test_batch\n"
     ]
    }
   ],
   "source": [
    "images_train, cls_train, labels_train = cifar10.load_training_data()\n",
    "images_test, cls_test, labels_test = cifar10.load_test_data()"
   ]
  },
  {
   "cell_type": "markdown",
   "metadata": {},
   "source": [
    "## Image preprocessing"
   ]
  },
  {
   "cell_type": "code",
   "execution_count": 5,
   "metadata": {
    "collapsed": true
   },
   "outputs": [],
   "source": [
    "img_size_cropped = 24"
   ]
  },
  {
   "cell_type": "code",
   "execution_count": 6,
   "metadata": {
    "collapsed": true
   },
   "outputs": [],
   "source": [
    "x = tf.placeholder(tf.float32, shape=[None, img_size, img_size, num_channels], name='x')\n",
    "y = tf.placeholder(tf.float32, shape=[None, num_classes], name='y')"
   ]
  },
  {
   "cell_type": "code",
   "execution_count": 7,
   "metadata": {
    "collapsed": true
   },
   "outputs": [],
   "source": [
    "def pre_process_image(image, training):\n",
    "    # This function takes a single image as input,\n",
    "    # and a boolean whether to build the training or testing graph.\n",
    "    \n",
    "    if training:\n",
    "        # For training, add the following to the TensorFlow graph.\n",
    "\n",
    "        # Randomly crop the input image.\n",
    "        image = tf.random_crop(image, size=[img_size_cropped, img_size_cropped, num_channels])\n",
    "\n",
    "        # Randomly flip the image horizontally.\n",
    "        image = tf.image.random_flip_left_right(image)\n",
    "        \n",
    "        # Randomly adjust hue, contrast and saturation.\n",
    "        image = tf.image.random_hue(image, max_delta=0.05)\n",
    "        image = tf.image.random_contrast(image, lower=0.3, upper=1.0)\n",
    "        image = tf.image.random_brightness(image, max_delta=0.2)\n",
    "        image = tf.image.random_saturation(image, lower=0.0, upper=2.0)\n",
    "\n",
    "        # Some of these functions may overflow and result in pixel\n",
    "        # values beyond the [0, 1] range. It is unclear from the\n",
    "        # documentation of TensorFlow whether this is\n",
    "        # intended. A simple solution is to limit the range.\n",
    "\n",
    "        # Limit the image pixels between [0, 1] in case of overflow.\n",
    "        image = tf.minimum(image, 1.0)\n",
    "        image = tf.maximum(image, 0.0)\n",
    "    else:\n",
    "        # For training, add the following to the TensorFlow graph.\n",
    "\n",
    "        # Crop the input image around the centre so it is the same\n",
    "        # size as images that are randomly cropped during training.\n",
    "        image = tf.image.resize_image_with_crop_or_pad(image,\n",
    "                                                       target_height=img_size_cropped,\n",
    "                                                       target_width=img_size_cropped)\n",
    "\n",
    "    return image"
   ]
  },
  {
   "cell_type": "code",
   "execution_count": 8,
   "metadata": {
    "collapsed": true
   },
   "outputs": [],
   "source": [
    "def pre_process(images, training):\n",
    "    return tf.map_fn(lambda image: pre_process_image(image, training), images)"
   ]
  },
  {
   "cell_type": "markdown",
   "metadata": {},
   "source": [
    "## AlexNet\n",
    "Original paper: https://papers.nips.cc/paper/4824-imagenet-classification-with-deep-convolutional-neural-networks.pdf"
   ]
  },
  {
   "cell_type": "markdown",
   "metadata": {},
   "source": [
    "### Helper functions"
   ]
  },
  {
   "cell_type": "code",
   "execution_count": 9,
   "metadata": {
    "collapsed": true
   },
   "outputs": [],
   "source": [
    "def weight_variable(shape, name):\n",
    "    return tf.get_variable(name, initializer=tf.truncated_normal(shape, stddev=0.1))\n",
    "\n",
    "def bias_variable(shape, name):\n",
    "    return tf.get_variable(name, initializer=tf.constant(0.3, shape=shape))\n",
    "\n",
    "def conv(x, *, sz, depth, out, groups=1, stride=1, padding=\"SAME\", name):\n",
    "    with tf.variable_scope(name) as scope:\n",
    "        w = weight_variable((sz, sz, depth // groups, out), name=\"weight\")\n",
    "        b = bias_variable((out,), name=\"bias\")\n",
    "            \n",
    "        convolution = lambda x, w: tf.nn.conv2d(x, w, strides=[1, stride, stride, 1], padding=padding)\n",
    "\n",
    "        if groups == 1:\n",
    "            conv_result = convolution(x, w)\n",
    "        else:\n",
    "            x_groups = tf.split(x, num_or_size_splits=groups, axis=3)\n",
    "            w_groups = tf.split(w, num_or_size_splits=groups, axis=3)\n",
    "            conv_result = tf.concat([convolution(x_g, w_g) for x_g, w_g in zip(x_groups, w_groups)], axis=3)\n",
    "            \n",
    "        return tf.nn.relu(tf.nn.bias_add(conv_result, b), name=scope.name)\n",
    "    \n",
    "def max_pool(x, *, sz, stride=1, padding=\"VALID\", name):\n",
    "    return tf.nn.max_pool(x,\n",
    "                          ksize=[1, sz, sz, 1], \n",
    "                          strides=[1, stride, stride, 1],\n",
    "                          padding=padding, \n",
    "                          name=name)\n",
    "\n",
    "def lrn(x, *, depth_radius=2, bias=2, alpha=1e-4, beta=0.75, name):\n",
    "    return tf.nn.lrn(x, depth_radius=depth_radius, bias=bias, alpha=alpha, beta=beta, name=name)\n",
    "\n",
    "def full(x, *, out, use_relu=True, name):\n",
    "    with tf.variable_scope(name) as scope:\n",
    "        sz = int(np.prod(x.shape[1:]))\n",
    "        flattened = tf.reshape(x, [-1, sz])\n",
    "\n",
    "        w = weight_variable((sz, out), name=\"weight\")\n",
    "        b = bias_variable((out,), name=\"bias\")\n",
    "        \n",
    "        value = tf.nn.xw_plus_b(flattened, w, b)\n",
    "        \n",
    "        return tf.nn.relu(value) if use_relu else value    \n",
    "    \n",
    "def dropout(x, *, keep_prob=0.5, name):\n",
    "    return tf.nn.dropout(x, keep_prob=keep_prob, name=name)"
   ]
  },
  {
   "cell_type": "markdown",
   "metadata": {},
   "source": [
    "### Creating network"
   ]
  },
  {
   "cell_type": "code",
   "execution_count": 10,
   "metadata": {
    "collapsed": true
   },
   "outputs": [],
   "source": [
    "class AlexNet:\n",
    "    def __init__(self, x):\n",
    "        self.x = x\n",
    "        self._build_layers()\n",
    "    \n",
    "    def _build_layers(self):\n",
    "        # (24, 24, 3) -> (12, 12, 24)x2\n",
    "        conv1 = conv(self.x, sz=4, depth=3, out=48, stride=2, name=\"conv1\")\n",
    "        lrn1 = lrn(conv1, name=\"lrn1\")\n",
    "        # (12, 12, 24)x2-> (11, 11, 24)x2\n",
    "        maxpool1 = max_pool(lrn1, sz=2, name=\"maxpool1\")\n",
    "        \n",
    "        # (11, 11, 24)x2 -> (5, 5, 64)x2\n",
    "        conv2 = conv(maxpool1, sz=3, stride=2, depth=48, out=128, groups=2, name=\"conv2\")\n",
    "        lrn2 = lrn(conv2, name=\"lrn2\")\n",
    "        # (5, 5, 64)x2 -> (4, 4, 64)x2\n",
    "        maxpool2 = max_pool(lrn2, sz=2, name=\"maxpool2\")\n",
    "        \n",
    "        # (4, 4, 64)x2 -> (4, 4, 96)x2\n",
    "        conv3 = conv(maxpool2, sz=3, depth=128, out=192, name=\"conv3\")\n",
    "        \n",
    "        # (4, 4, 96)x2 -> (4, 4, 96)x2\n",
    "        conv4 = conv(conv3, sz=3, depth=192, out=192, groups=2, name=\"conv4\")\n",
    "        \n",
    "        # (4, 4, 96)x2 -> (4, 4, 64)x2\n",
    "        conv5 = conv(conv4, sz=3, depth=192, out=128, groups=2, name=\"conv5\")\n",
    "        # (4, 4, 64)x2 -> (3, 3, 64)x2\n",
    "        maxpool5 = max_pool(conv5, sz=3, name=\"maxpool5\")\n",
    "        \n",
    "        # (3, 3, 128)x2 -> (512)\n",
    "        fc6 = full(maxpool5, out=512, name=\"fc6\")\n",
    "        dropout6 = dropout(fc6, name=\"dropout6\")\n",
    "        \n",
    "        # (512) -> (512)\n",
    "        fc7 = full(dropout6, out=512, name=\"fc7\")\n",
    "        dropout7 = dropout(fc7, name=\"dropout7\")\n",
    "        \n",
    "        # (512) -> (10)\n",
    "        self.score = full(dropout7, out=num_classes, use_relu=False, name=\"score\")"
   ]
  },
  {
   "cell_type": "markdown",
   "metadata": {},
   "source": [
    "## Initialize network"
   ]
  },
  {
   "cell_type": "code",
   "execution_count": 11,
   "metadata": {
    "collapsed": true
   },
   "outputs": [],
   "source": [
    "def create_network(training):\n",
    "    # Wrap the neural network in the scope named 'network'.\n",
    "    # Create new variables during training, and re-use during testing.\n",
    "    with tf.variable_scope(\"network\", reuse=not training):\n",
    "        images = pre_process(images=x, training=training)\n",
    "        net = AlexNet(images)\n",
    "        loss = tf.reduce_mean(tf.nn.softmax_cross_entropy_with_logits(logits=net.score, labels=y))\n",
    "\n",
    "        return net.score, loss"
   ]
  },
  {
   "cell_type": "code",
   "execution_count": 12,
   "metadata": {
    "collapsed": true
   },
   "outputs": [],
   "source": [
    "global_step = tf.Variable(initial_value=0,\n",
    "                          name=\"global_step\",\n",
    "                          trainable=False)"
   ]
  },
  {
   "cell_type": "code",
   "execution_count": 13,
   "metadata": {
    "collapsed": true
   },
   "outputs": [],
   "source": [
    "score_train, loss_train = create_network(training=True)\n",
    "optimizer = tf.train.AdamOptimizer(learning_rate=7e-4).minimize(loss_train, global_step=global_step)"
   ]
  },
  {
   "cell_type": "code",
   "execution_count": 14,
   "metadata": {
    "collapsed": true
   },
   "outputs": [],
   "source": [
    "score_test, loss_test = create_network(training=False)"
   ]
  },
  {
   "cell_type": "code",
   "execution_count": 15,
   "metadata": {
    "collapsed": true
   },
   "outputs": [],
   "source": [
    "y_pred_cls_train = tf.argmax(score_train, 1)\n",
    "correct_prediction_train = tf.equal(y_pred_cls_train, tf.argmax(y, 1))\n",
    "accuracy = tf.reduce_mean(tf.cast(correct_prediction_train, tf.float32))"
   ]
  },
  {
   "cell_type": "code",
   "execution_count": 16,
   "metadata": {
    "collapsed": true
   },
   "outputs": [],
   "source": [
    "y_pred_cls_test = tf.argmax(score_test, 1)"
   ]
  },
  {
   "cell_type": "markdown",
   "metadata": {},
   "source": [
    "## Testing"
   ]
  },
  {
   "cell_type": "markdown",
   "metadata": {},
   "source": [
    "### Restore or initialize variables"
   ]
  },
  {
   "cell_type": "code",
   "execution_count": 17,
   "metadata": {
    "collapsed": true
   },
   "outputs": [],
   "source": [
    "session = tf.Session()\n",
    "writer = tf.summary.FileWriter('./graphs', session.graph)\n",
    "\n",
    "saver = tf.train.Saver()"
   ]
  },
  {
   "cell_type": "code",
   "execution_count": 18,
   "metadata": {},
   "outputs": [
    {
     "name": "stdout",
     "output_type": "stream",
     "text": [
      "Trying to restore last checkpoint ...\n",
      "Failed to restore checkpoint. Initializing variables instead.\n"
     ]
    }
   ],
   "source": [
    "save_dir = 'alexnet_checkpoints/'\n",
    "\n",
    "if not os.path.exists(save_dir):\n",
    "    os.makedirs(save_dir)\n",
    "    \n",
    "save_path = os.path.join(save_dir, 'cifar10_cnn')\n",
    "\n",
    "try:\n",
    "    print(\"Trying to restore last checkpoint ...\")\n",
    "\n",
    "    # Use TensorFlow to find the latest checkpoint - if any.\n",
    "    last_chk_path = tf.train.latest_checkpoint(checkpoint_dir=save_dir)\n",
    "\n",
    "    # Try and load the data in the checkpoint.\n",
    "    saver.restore(session, save_path=last_chk_path)\n",
    "\n",
    "    # If we get to this point, the checkpoint was successfully loaded.\n",
    "    print(\"Restored checkpoint from:\", last_chk_path)\n",
    "except:\n",
    "    # If the above failed for some reason, simply\n",
    "    # initialize all the variables for the TensorFlow graph.\n",
    "    print(\"Failed to restore checkpoint. Initializing variables instead.\")\n",
    "    session.run(tf.global_variables_initializer())"
   ]
  },
  {
   "cell_type": "markdown",
   "metadata": {},
   "source": [
    "### Optimization"
   ]
  },
  {
   "cell_type": "code",
   "execution_count": 19,
   "metadata": {
    "collapsed": true
   },
   "outputs": [],
   "source": [
    "train_batch_size = 64\n",
    "\n",
    "def random_batch():\n",
    "    # Number of images in the training-set.\n",
    "    num_images = len(images_train)\n",
    "\n",
    "    # Create a random index.\n",
    "    idx = np.random.choice(num_images,\n",
    "                           size=train_batch_size,\n",
    "                           replace=False)\n",
    "\n",
    "    # Use the random index to select random images and labels.\n",
    "    x_batch = images_train[idx, :, :, :]\n",
    "    y_batch = labels_train[idx, :]\n",
    "\n",
    "    return x_batch, y_batch"
   ]
  },
  {
   "cell_type": "code",
   "execution_count": 20,
   "metadata": {
    "collapsed": true
   },
   "outputs": [],
   "source": [
    "def optimize(num_iterations):\n",
    "    start_time = time.time()\n",
    "\n",
    "    for i in range(num_iterations):\n",
    "        x_batch, y_true_batch = random_batch()\n",
    "        \n",
    "        feed_dict_train = {x: x_batch,\n",
    "                           y: y_true_batch}\n",
    "\n",
    "        i_global, _ = session.run([global_step, optimizer], \n",
    "                                  feed_dict=feed_dict_train)\n",
    "        \n",
    "        # Print status to screen every 100 iterations (and last).\n",
    "        if (i_global % 100 == 0) or (i == num_iterations - 1):\n",
    "            # Calculate the accuracy on the training-batch.\n",
    "            batch_acc, batch_loss = session.run([accuracy, loss_train],\n",
    "                                                feed_dict=feed_dict_train)\n",
    "\n",
    "            # Print status.\n",
    "            msg = \"Global Step: {0:>6}, Training Batch Accuracy: {1:>6.1%}, Training Batch Loss: {2:>2.4}\"\n",
    "            print(msg.format(i_global, batch_acc, batch_loss))\n",
    "        \n",
    "        if (i_global % 1000 == 0) or (i == num_iterations - 1):\n",
    "            # Save all variables of the TensorFlow graph to a\n",
    "            # checkpoint. Append the global_step counter\n",
    "            # to the filename so we save the last several checkpoints.\n",
    "            saver.save(session,\n",
    "                       save_path=save_path,\n",
    "                       global_step=global_step)\n",
    "\n",
    "            print(\"Saved checkpoint.\")\n",
    "\n",
    "\n",
    "    # Ending time.\n",
    "    end_time = time.time()\n",
    "\n",
    "    # Difference between start and end-times.\n",
    "    time_dif = end_time - start_time\n",
    "\n",
    "    # Print the time-usage.\n",
    "    print(\"Time usage: \" + str(timedelta(seconds=int(round(time_dif)))))"
   ]
  },
  {
   "cell_type": "markdown",
   "metadata": {},
   "source": [
    "### Calculating classifications"
   ]
  },
  {
   "cell_type": "code",
   "execution_count": 21,
   "metadata": {
    "collapsed": true
   },
   "outputs": [],
   "source": [
    "# Split the data-set in batches of this size to limit RAM usage.\n",
    "batch_size = 256\n",
    "\n",
    "def predict_cls(images, labels, cls_true):\n",
    "    # Number of images.\n",
    "    num_images = len(images)\n",
    "\n",
    "    # Allocate an array for the predicted classes which\n",
    "    # will be calculated in batches and filled into this array.\n",
    "    cls_pred = np.zeros(shape=num_images, dtype=np.int)\n",
    "\n",
    "    # Now calculate the predicted classes for the batches.\n",
    "    # We will just iterate through all the batches.\n",
    "    # There might be a more clever and Pythonic way of doing this.\n",
    "\n",
    "    # The starting index for the next batch is denoted i.\n",
    "    i = 0\n",
    "\n",
    "    while i < num_images:\n",
    "        # The ending index for the next batch is denoted j.\n",
    "        j = min(i + batch_size, num_images)\n",
    "\n",
    "        # Create a feed-dict with the images and labels\n",
    "        # between index i and j.\n",
    "        feed_dict = {x: images[i:j, :],\n",
    "                     y: labels[i:j, :]}\n",
    "\n",
    "        # Calculate the predicted class using TensorFlow.\n",
    "        cls_pred[i:j] = session.run(y_pred_cls_test, feed_dict=feed_dict)\n",
    "\n",
    "        # Set the start-index for the next batch to the\n",
    "        # end-index of the current batch.\n",
    "        i = j\n",
    "\n",
    "    # Create a boolean array whether each image is correctly classified.\n",
    "    correct = (cls_true == cls_pred)\n",
    "\n",
    "    return correct, cls_pred"
   ]
  },
  {
   "cell_type": "code",
   "execution_count": 22,
   "metadata": {
    "collapsed": true
   },
   "outputs": [],
   "source": [
    "def classification_accuracy(correct):\n",
    "    return correct.mean(), correct.sum()"
   ]
  },
  {
   "cell_type": "code",
   "execution_count": 23,
   "metadata": {
    "collapsed": true
   },
   "outputs": [],
   "source": [
    "def print_test_accuracy():\n",
    "    # For all the images in the test-set,\n",
    "    # calculate the predicted classes and whether they are correct.\n",
    "    correct, cls_pred = predict_cls(images=images_test,\n",
    "                                    labels=labels_test,\n",
    "                                    cls_true=cls_test)\n",
    "    \n",
    "    # Classification accuracy and the number of correct classifications.\n",
    "    acc, num_correct = classification_accuracy(correct)\n",
    "    \n",
    "    # Number of images being classified.\n",
    "    num_images = len(correct)\n",
    "\n",
    "    # Print the accuracy.\n",
    "    msg = \"Accuracy on Test-Set: {0:.1%} ({1} / {2})\"\n",
    "    print(msg.format(acc, num_correct, num_images))"
   ]
  },
  {
   "cell_type": "markdown",
   "metadata": {},
   "source": [
    "## Perform optimization"
   ]
  },
  {
   "cell_type": "code",
   "execution_count": null,
   "metadata": {},
   "outputs": [
    {
     "name": "stdout",
     "output_type": "stream",
     "text": [
      "Global Step:  50100, Training Batch Accuracy:  57.8%, Training Batch Loss: 1.163\n",
      "Global Step:  50200, Training Batch Accuracy:  78.1%, Training Batch Loss: 0.9655\n",
      "Global Step:  50300, Training Batch Accuracy:  64.1%, Training Batch Loss: 0.8521\n",
      "Global Step:  50400, Training Batch Accuracy:  71.9%, Training Batch Loss: 1.06\n",
      "Global Step:  50500, Training Batch Accuracy:  75.0%, Training Batch Loss: 0.7677\n",
      "Global Step:  50600, Training Batch Accuracy:  65.6%, Training Batch Loss: 0.9519\n",
      "Global Step:  50700, Training Batch Accuracy:  68.8%, Training Batch Loss: 1.029\n",
      "Global Step:  50800, Training Batch Accuracy:  76.6%, Training Batch Loss: 0.7907\n",
      "Global Step:  50900, Training Batch Accuracy:  67.2%, Training Batch Loss: 0.8055\n",
      "Global Step:  51000, Training Batch Accuracy:  67.2%, Training Batch Loss: 1.035\n",
      "Saved checkpoint.\n",
      "Global Step:  51100, Training Batch Accuracy:  56.2%, Training Batch Loss: 1.122\n",
      "Global Step:  51200, Training Batch Accuracy:  78.1%, Training Batch Loss: 0.6318\n",
      "Global Step:  51300, Training Batch Accuracy:  70.3%, Training Batch Loss: 0.9912\n",
      "Global Step:  51400, Training Batch Accuracy:  70.3%, Training Batch Loss: 0.8386\n",
      "Global Step:  51500, Training Batch Accuracy:  68.8%, Training Batch Loss: 0.9389\n",
      "Global Step:  51600, Training Batch Accuracy:  71.9%, Training Batch Loss: 0.9494\n",
      "Global Step:  51700, Training Batch Accuracy:  70.3%, Training Batch Loss: 0.8886\n",
      "Global Step:  51800, Training Batch Accuracy:  65.6%, Training Batch Loss: 1.044\n",
      "Global Step:  51900, Training Batch Accuracy:  71.9%, Training Batch Loss: 0.9032\n",
      "Global Step:  52000, Training Batch Accuracy:  68.8%, Training Batch Loss: 0.9383\n",
      "Saved checkpoint.\n",
      "Global Step:  52100, Training Batch Accuracy:  73.4%, Training Batch Loss: 0.8798\n",
      "Global Step:  52200, Training Batch Accuracy:  62.5%, Training Batch Loss: 0.8395\n",
      "Global Step:  52300, Training Batch Accuracy:  65.6%, Training Batch Loss: 1.116\n",
      "Global Step:  52400, Training Batch Accuracy:  70.3%, Training Batch Loss: 0.9759\n",
      "Global Step:  52500, Training Batch Accuracy:  64.1%, Training Batch Loss: 1.028\n",
      "Global Step:  52600, Training Batch Accuracy:  75.0%, Training Batch Loss: 0.8817\n",
      "Global Step:  52700, Training Batch Accuracy:  68.8%, Training Batch Loss: 0.9579\n",
      "Global Step:  52800, Training Batch Accuracy:  64.1%, Training Batch Loss: 0.9557\n",
      "Global Step:  52900, Training Batch Accuracy:  50.0%, Training Batch Loss: 1.317\n",
      "Global Step:  53000, Training Batch Accuracy:  71.9%, Training Batch Loss: 0.7397\n",
      "Saved checkpoint.\n",
      "Global Step:  53100, Training Batch Accuracy:  75.0%, Training Batch Loss: 0.7785\n",
      "Global Step:  53200, Training Batch Accuracy:  53.1%, Training Batch Loss: 1.312\n",
      "Global Step:  53300, Training Batch Accuracy:  65.6%, Training Batch Loss: 0.9822\n",
      "Global Step:  53400, Training Batch Accuracy:  73.4%, Training Batch Loss: 0.8496\n",
      "Global Step:  53500, Training Batch Accuracy:  67.2%, Training Batch Loss: 0.8386\n",
      "Global Step:  53600, Training Batch Accuracy:  65.6%, Training Batch Loss: 1.106\n",
      "Global Step:  53700, Training Batch Accuracy:  81.2%, Training Batch Loss: 0.5788\n",
      "Global Step:  53800, Training Batch Accuracy:  67.2%, Training Batch Loss: 0.7991\n",
      "Global Step:  53900, Training Batch Accuracy:  71.9%, Training Batch Loss: 0.9789\n",
      "Global Step:  54000, Training Batch Accuracy:  60.9%, Training Batch Loss: 1.104\n",
      "Saved checkpoint.\n",
      "Global Step:  54100, Training Batch Accuracy:  70.3%, Training Batch Loss: 0.7831\n",
      "Global Step:  54200, Training Batch Accuracy:  62.5%, Training Batch Loss: 1.08\n",
      "Global Step:  54300, Training Batch Accuracy:  73.4%, Training Batch Loss: 0.9017\n",
      "Global Step:  54400, Training Batch Accuracy:  75.0%, Training Batch Loss: 0.8448\n",
      "Global Step:  54500, Training Batch Accuracy:  60.9%, Training Batch Loss: 0.9416\n",
      "Global Step:  54600, Training Batch Accuracy:  67.2%, Training Batch Loss: 0.9394\n",
      "Global Step:  54700, Training Batch Accuracy:  73.4%, Training Batch Loss: 0.9614\n",
      "Global Step:  54800, Training Batch Accuracy:  71.9%, Training Batch Loss: 0.8821\n",
      "Global Step:  54900, Training Batch Accuracy:  56.2%, Training Batch Loss: 1.107\n",
      "Global Step:  55000, Training Batch Accuracy:  64.1%, Training Batch Loss: 0.8983\n",
      "Saved checkpoint.\n",
      "Global Step:  55100, Training Batch Accuracy:  62.5%, Training Batch Loss: 1.064\n",
      "Global Step:  55200, Training Batch Accuracy:  68.8%, Training Batch Loss: 0.7744\n",
      "Global Step:  55300, Training Batch Accuracy:  64.1%, Training Batch Loss: 0.8568\n",
      "Global Step:  55400, Training Batch Accuracy:  76.6%, Training Batch Loss: 0.8336\n",
      "Global Step:  55500, Training Batch Accuracy:  70.3%, Training Batch Loss: 0.8211\n",
      "Global Step:  55600, Training Batch Accuracy:  67.2%, Training Batch Loss: 1.078\n",
      "Global Step:  55700, Training Batch Accuracy:  70.3%, Training Batch Loss: 1.075\n",
      "Global Step:  55800, Training Batch Accuracy:  67.2%, Training Batch Loss: 1.062\n",
      "Global Step:  55900, Training Batch Accuracy:  68.8%, Training Batch Loss: 0.9057\n",
      "Global Step:  56000, Training Batch Accuracy:  68.8%, Training Batch Loss: 0.8635\n",
      "Saved checkpoint.\n",
      "Global Step:  56100, Training Batch Accuracy:  73.4%, Training Batch Loss: 0.9658\n",
      "Global Step:  56200, Training Batch Accuracy:  73.4%, Training Batch Loss: 0.943\n",
      "Global Step:  56300, Training Batch Accuracy:  70.3%, Training Batch Loss: 0.8193\n",
      "Global Step:  56400, Training Batch Accuracy:  65.6%, Training Batch Loss: 1.062\n",
      "Global Step:  56500, Training Batch Accuracy:  70.3%, Training Batch Loss: 0.7717\n",
      "Global Step:  56600, Training Batch Accuracy:  68.8%, Training Batch Loss: 0.9612\n",
      "Global Step:  56700, Training Batch Accuracy:  71.9%, Training Batch Loss: 0.9262\n",
      "Global Step:  56800, Training Batch Accuracy:  60.9%, Training Batch Loss: 1.046\n",
      "Global Step:  56900, Training Batch Accuracy:  53.1%, Training Batch Loss: 1.48\n",
      "Global Step:  57000, Training Batch Accuracy:  68.8%, Training Batch Loss: 1.058\n",
      "Saved checkpoint.\n",
      "Global Step:  57100, Training Batch Accuracy:  81.2%, Training Batch Loss: 0.749\n",
      "Global Step:  57200, Training Batch Accuracy:  67.2%, Training Batch Loss: 0.9392\n",
      "Global Step:  57300, Training Batch Accuracy:  65.6%, Training Batch Loss: 0.9847\n",
      "Global Step:  57400, Training Batch Accuracy:  70.3%, Training Batch Loss: 0.8685\n",
      "Global Step:  57500, Training Batch Accuracy:  67.2%, Training Batch Loss: 0.9691\n",
      "Global Step:  57600, Training Batch Accuracy:  67.2%, Training Batch Loss: 1.011\n",
      "Global Step:  57700, Training Batch Accuracy:  70.3%, Training Batch Loss: 1.13\n",
      "Global Step:  57800, Training Batch Accuracy:  82.8%, Training Batch Loss: 0.578\n",
      "Global Step:  57900, Training Batch Accuracy:  76.6%, Training Batch Loss: 0.7339\n",
      "Global Step:  58000, Training Batch Accuracy:  67.2%, Training Batch Loss: 0.8662\n",
      "Saved checkpoint.\n",
      "Global Step:  58100, Training Batch Accuracy:  71.9%, Training Batch Loss: 0.9373\n",
      "Global Step:  58200, Training Batch Accuracy:  81.2%, Training Batch Loss: 0.5773\n",
      "Global Step:  58300, Training Batch Accuracy:  62.5%, Training Batch Loss: 1.035\n",
      "Global Step:  58400, Training Batch Accuracy:  75.0%, Training Batch Loss: 0.8955\n",
      "Global Step:  58500, Training Batch Accuracy:  82.8%, Training Batch Loss: 0.6318\n",
      "Global Step:  58600, Training Batch Accuracy:  71.9%, Training Batch Loss: 0.8422\n",
      "Global Step:  58700, Training Batch Accuracy:  78.1%, Training Batch Loss: 0.7364\n",
      "Global Step:  58800, Training Batch Accuracy:  65.6%, Training Batch Loss: 0.8567\n",
      "Global Step:  58900, Training Batch Accuracy:  73.4%, Training Batch Loss: 0.933\n",
      "Global Step:  59000, Training Batch Accuracy:  81.2%, Training Batch Loss: 0.7187\n",
      "Saved checkpoint.\n",
      "Global Step:  59100, Training Batch Accuracy:  64.1%, Training Batch Loss: 0.9178\n",
      "Global Step:  59200, Training Batch Accuracy:  62.5%, Training Batch Loss: 0.969\n",
      "Global Step:  59300, Training Batch Accuracy:  70.3%, Training Batch Loss: 0.7428\n",
      "Global Step:  59400, Training Batch Accuracy:  70.3%, Training Batch Loss: 0.9532\n",
      "Global Step:  59500, Training Batch Accuracy:  73.4%, Training Batch Loss: 0.8761\n",
      "Global Step:  59600, Training Batch Accuracy:  81.2%, Training Batch Loss: 0.7029\n",
      "Global Step:  59700, Training Batch Accuracy:  64.1%, Training Batch Loss: 0.9199\n",
      "Global Step:  59800, Training Batch Accuracy:  73.4%, Training Batch Loss: 0.9372\n",
      "Global Step:  59900, Training Batch Accuracy:  70.3%, Training Batch Loss: 0.8323\n"
     ]
    },
    {
     "name": "stdout",
     "output_type": "stream",
     "text": [
      "Global Step:  60000, Training Batch Accuracy:  62.5%, Training Batch Loss: 1.055\n",
      "Saved checkpoint.\n",
      "Global Step:  60100, Training Batch Accuracy:  79.7%, Training Batch Loss: 0.6027\n",
      "Global Step:  60200, Training Batch Accuracy:  79.7%, Training Batch Loss: 0.6241\n",
      "Global Step:  60300, Training Batch Accuracy:  59.4%, Training Batch Loss: 1.016\n",
      "Global Step:  60400, Training Batch Accuracy:  70.3%, Training Batch Loss: 0.8626\n",
      "Global Step:  89200, Training Batch Accuracy:  73.4%, Training Batch Loss: 0.6825\n",
      "Global Step:  89300, Training Batch Accuracy:  67.2%, Training Batch Loss: 1.134\n",
      "Global Step:  89400, Training Batch Accuracy:  71.9%, Training Batch Loss: 0.8902\n",
      "Global Step:  89500, Training Batch Accuracy:  60.9%, Training Batch Loss: 1.038\n",
      "Global Step:  89600, Training Batch Accuracy:  64.1%, Training Batch Loss: 1.238\n",
      "Global Step:  89700, Training Batch Accuracy:  78.1%, Training Batch Loss: 0.5822\n",
      "Global Step:  89800, Training Batch Accuracy:  73.4%, Training Batch Loss: 0.7159\n",
      "Global Step:  89900, Training Batch Accuracy:  70.3%, Training Batch Loss: 1.017\n",
      "Global Step:  90000, Training Batch Accuracy:  75.0%, Training Batch Loss: 0.912\n",
      "Saved checkpoint.\n",
      "Global Step:  90100, Training Batch Accuracy:  64.1%, Training Batch Loss: 1.199\n",
      "Global Step:  90200, Training Batch Accuracy:  68.8%, Training Batch Loss: 0.7828\n"
     ]
    }
   ],
   "source": [
    "optimize(num_iterations=50000)"
   ]
  },
  {
   "cell_type": "markdown",
   "metadata": {},
   "source": [
    "## Results"
   ]
  },
  {
   "cell_type": "code",
   "execution_count": 39,
   "metadata": {},
   "outputs": [
    {
     "name": "stdout",
     "output_type": "stream",
     "text": [
      "Accuracy on Test-Set: 75.4% (7541 / 10000)\n"
     ]
    }
   ],
   "source": [
    "print_test_accuracy()"
   ]
  }
 ],
 "metadata": {
  "kernelspec": {
   "display_name": "Python 3",
   "language": "python",
   "name": "python3"
  },
  "language_info": {
   "codemirror_mode": {
    "name": "ipython",
    "version": 3
   },
   "file_extension": ".py",
   "mimetype": "text/x-python",
   "name": "python",
   "nbconvert_exporter": "python",
   "pygments_lexer": "ipython3",
   "version": "3.6.1"
  }
 },
 "nbformat": 4,
 "nbformat_minor": 2
}
