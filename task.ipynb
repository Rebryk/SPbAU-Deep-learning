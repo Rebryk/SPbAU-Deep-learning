{
 "cells": [
  {
   "cell_type": "code",
   "execution_count": 13,
   "metadata": {},
   "outputs": [
    {
     "name": "stdout",
     "output_type": "stream",
     "text": [
      "The autoreload extension is already loaded. To reload it, use:\n",
      "  %reload_ext autoreload\n",
      "Modules to reload:\n",
      "HanSequenceLabellingModel model_components\n",
      "\n",
      "Modules to skip:\n",
      "\n"
     ]
    }
   ],
   "source": [
    "import os\n",
    "import re\n",
    "import time\n",
    "import spacy\n",
    "import random\n",
    "import tarfile\n",
    "import itertools\n",
    "import numpy as np\n",
    "import seaborn as sns\n",
    "import urllib.request\n",
    "import tensorflow as tf\n",
    "import matplotlib.pyplot as plt\n",
    "\n",
    "from lazy import lazy\n",
    "from colors import color\n",
    "from attrdict import AttrDict\n",
    "from bn_lstm import BNLSTMCell\n",
    "from collections import defaultdict\n",
    "from HanSequenceLabellingModel import HanSequenceLabellingModel\n",
    "\n",
    "gpu_options = tf.GPUOptions(per_process_gpu_memory_fraction=1)\n",
    "\n",
    "%load_ext autoreload\n",
    "%autoreload 1\n",
    "%aimport HanSequenceLabellingModel\n",
    "%aimport model_components\n",
    "%aimport\n",
    "\n",
    "%matplotlib inline\n",
    "plt.rcParams[\"figure.figsize\"] = (10, 6)"
   ]
  },
  {
   "cell_type": "markdown",
   "metadata": {},
   "source": [
    "## Imdb reviews"
   ]
  },
  {
   "cell_type": "code",
   "execution_count": 2,
   "metadata": {
    "collapsed": true
   },
   "outputs": [],
   "source": [
    "class ImdbMovieReviews:\n",
    "    DEFAULT_URL = \"http://ai.stanford.edu/~amaas/data/sentiment/aclImdb_v1.tar.gz\"\n",
    "    TOKEN_REGEX = re.compile(r\"[A-Za-z]+|[!?.:,()]\")\n",
    "    \n",
    "    def __init__(self):\n",
    "        self._cache_dir = \"./imdb\"\n",
    "        self._url = \"http://ai.stanford.edu/~amaas/data/sentiment/aclImdb_v1.tar.gz\"\n",
    "        \n",
    "        if not os.path.isfile(self._cache_dir):\n",
    "            urllib.request.urlretrieve(self._url, self._cache_dir)\n",
    "            \n",
    "        self.filepath = self._cache_dir\n",
    "\n",
    "    def __iter__(self):\n",
    "        with tarfile.open(self.filepath) as archive:\n",
    "            items = archive.getnames()\n",
    "            \n",
    "            for filename in archive.getnames():\n",
    "                if filename.startswith(\"aclImdb/train/pos/\"):\n",
    "                    yield self._read(archive, filename), True\n",
    "                elif filename.startswith(\"aclImdb/train/neg/\"):\n",
    "                    yield self._read(archive, filename), False\n",
    "                    \n",
    "    def _read(self, archive, filename):\n",
    "        with archive.extractfile(filename) as file_:\n",
    "            data = file_.read().decode(\"utf-8\")\n",
    "            data = type(self).TOKEN_REGEX.findall(data)\n",
    "            data = [x.lower() for x in data]\n",
    "            return data"
   ]
  },
  {
   "cell_type": "markdown",
   "metadata": {},
   "source": [
    "## Embedding"
   ]
  },
  {
   "cell_type": "code",
   "execution_count": 3,
   "metadata": {},
   "outputs": [],
   "source": [
    "class Embedding:\n",
    "    def __init__(self):\n",
    "        self.parser = spacy.load(\"en_vectors_web_lg\")\n",
    "        self.dimensions = 300\n",
    "        \n",
    "    def __call__(self, sequence, length):\n",
    "        data = np.zeros((length, self.dimensions))\n",
    "        embedded = [self.parser.vocab[w].vector for w in sequence]\n",
    "        data[:len(sequence)] = embedded\n",
    "        return data"
   ]
  },
  {
   "cell_type": "code",
   "execution_count": 4,
   "metadata": {
    "collapsed": true
   },
   "outputs": [],
   "source": [
    "def preprocess_batched_split(iterator, embedding, batch_size):\n",
    "    iterator = iter(iterator)\n",
    "    \n",
    "    while True:\n",
    "        batch, labels_b = zip(*itertools.islice(iterator, batch_size))\n",
    "        \n",
    "        sents_b = [[list(y) for x, y in itertools.groupby(doc, lambda z: z == \".\") if not x] for doc in batch]\n",
    "\n",
    "        sentence_sizes_b = [[len(sent) for sent in doc] for doc in sents_b]\n",
    "        sentence_size = max(map(max, sentence_sizes_b))\n",
    "        \n",
    "        document_sizes = np.array([len(doc) for doc in sentence_sizes_b], dtype=np.int32)\n",
    "        document_size = document_sizes.max()\n",
    "\n",
    "        sentence_sizes_np = np.zeros(shape=[batch_size, document_size], dtype=np.int32)\n",
    "        for bi, ds, ss in zip(range(sentence_sizes_np.shape[0]), document_sizes, sentence_sizes_b):\n",
    "            sentence_sizes_np[bi][:ds] = ss\n",
    "        \n",
    "        text_embed_b = np.zeros((batch_size, document_size, sentence_size, 300))\n",
    "        for i, ds, doc_sents in zip(range(text_embed_b.shape[0]), document_sizes, sents_b):\n",
    "            doc_sents_embed = np.array([embedding(sent, sentence_size) for sent in doc_sents])\n",
    "            text_embed_b[i][:ds] = doc_sents_embed\n",
    "        \n",
    "        yield text_embed_b, np.array(labels_b, dtype=np.int32), np.array(document_sizes), sentence_sizes_np, sents_b"
   ]
  },
  {
   "cell_type": "code",
   "execution_count": 5,
   "metadata": {},
   "outputs": [],
   "source": [
    "reviews = list(ImdbMovieReviews())\n",
    "random.shuffle(reviews)"
   ]
  },
  {
   "cell_type": "markdown",
   "metadata": {},
   "source": [
    "## HAN model"
   ]
  },
  {
   "cell_type": "code",
   "execution_count": 10,
   "metadata": {
    "collapsed": true
   },
   "outputs": [],
   "source": [
    "def HAN_model(session, restore_only=False):\n",
    "    \"\"\"Hierarhical Attention Network\"\"\"\n",
    "    \n",
    "    try:\n",
    "        from tensorflow.contrib.rnn import GRUCell, MultiRNNCell, DropoutWrapper\n",
    "    except ImportError:\n",
    "        MultiRNNCell = tf.nn.rnn_cell.MultiRNNCell\n",
    "        GRUCell = tf.nn.rnn_cell.GRUCell\n",
    "    \n",
    "    from bn_lstm import BNLSTMCell\n",
    "    from HanSequenceLabellingModel import HanSequenceLabellingModel\n",
    "    \n",
    "    is_training = tf.placeholder(dtype=tf.bool, name=\"is_training\")\n",
    "\n",
    "    cell = BNLSTMCell(80, is_training) # h-h batchnorm LSTMCell\n",
    "    cell = MultiRNNCell([cell]*5)\n",
    "\n",
    "    model = HanSequenceLabellingModel(\n",
    "            embedding_size=300,\n",
    "            classes=2,\n",
    "            word_cell=cell,\n",
    "            sentence_cell=cell,\n",
    "            word_output_size=300,\n",
    "            sentence_output_size=300,\n",
    "            learning_rate=0.001,\n",
    "            max_grad_norm=5.0,\n",
    "            dropout_keep_proba=0.5,\n",
    "            is_training=is_training,\n",
    "    )\n",
    "\n",
    "    saver = tf.train.Saver(tf.global_variables())\n",
    "    checkpoint_dir = \"checkpoints\"\n",
    "    checkpoint = tf.train.get_checkpoint_state(checkpoint_dir)\n",
    "    \n",
    "    if checkpoint:\n",
    "        print(\"Reading model parameters from %s\" % checkpoint.model_checkpoint_path)\n",
    "        saver.restore(session, checkpoint.model_checkpoint_path)\n",
    "    elif restore_only:\n",
    "        raise FileNotFoundError(\"Cannot restore model\")\n",
    "    else:\n",
    "        print(\"Created model with fresh parameters\")\n",
    "        session.run(tf.global_variables_initializer())\n",
    "        \n",
    "    return model, saver"
   ]
  },
  {
   "cell_type": "markdown",
   "metadata": {},
   "source": [
    "## Attention"
   ]
  },
  {
   "cell_type": "code",
   "execution_count": 49,
   "metadata": {
    "collapsed": true
   },
   "outputs": [],
   "source": [
    "def visualize(sents, sent_atts, word_atts):\n",
    "    min_sent_att, max_sent_att = np.min(sent_atts), np.max(sent_atts)\n",
    "    \n",
    "    for i, sent in enumerate(sents):\n",
    "        sent_value = (sent_atts[i] - min_sent_att) / (max_sent_att - min_sent_att)\n",
    "        sent_color = (55, 55, 55 + int(200 * sent_value))\n",
    "        print(color(\"  \", bg=sent_color), end=\"\")\n",
    "        \n",
    "        min_word_att, max_word_att = np.min(word_atts[i, : len(sent)]), np.max(word_atts[i, : len(sent)])\n",
    "            \n",
    "        for j, word in enumerate(sent):\n",
    "            if max_word_att - min_word_att > 1e-5:\n",
    "                word_value = (word_atts[i, j] - min_word_att) / (max_word_att - min_word_att)\n",
    "            else:\n",
    "                word_value = 1.0\n",
    "            \n",
    "            word_color = (55 + int(200 * word_value), 55, 55)\n",
    "            print(color(word, word_color), end=\" \")\n",
    "        \n",
    "        print()"
   ]
  },
  {
   "cell_type": "code",
   "execution_count": 51,
   "metadata": {},
   "outputs": [
    {
     "name": "stdout",
     "output_type": "stream",
     "text": [
      "Reading model parameters from checkpoints/checkpoint-2400\n",
      "INFO:tensorflow:Restoring parameters from checkpoints/checkpoint-2400\n",
      "\u001b[48;2;55;55;135m  \u001b[0m\u001b[38;2;165;55;55maccording\u001b[0m \u001b[38;2;216;55;55mto\u001b[0m \u001b[38;2;165;55;55mthe\u001b[0m \u001b[38;2;191;55;55mbook\u001b[0m \u001b[38;2;165;55;55mthe\u001b[0m \u001b[38;2;165;55;55mlast\u001b[0m \u001b[38;2;89;55;55mof\u001b[0m \u001b[38;2;55;55;55mthe\u001b[0m \u001b[38;2;165;55;55mcowboy\u001b[0m \u001b[38;2;165;55;55mheroes\u001b[0m \u001b[38;2;72;55;55mwhich\u001b[0m \u001b[38;2;165;55;55mis\u001b[0m \u001b[38;2;210;55;55mabout\u001b[0m \u001b[38;2;227;55;55mjoel\u001b[0m \u001b[38;2;163;55;55mmccrea\u001b[0m \u001b[38;2;165;55;55m,\u001b[0m \u001b[38;2;165;55;55maudie\u001b[0m \u001b[38;2;199;55;55mmurphy\u001b[0m \u001b[38;2;225;55;55m,\u001b[0m \u001b[38;2;165;55;55mand\u001b[0m \u001b[38;2;108;55;55mrandolph\u001b[0m \u001b[38;2;151;55;55mscott\u001b[0m \u001b[38;2;202;55;55m,\u001b[0m \u001b[38;2;165;55;55mthe\u001b[0m \u001b[38;2;165;55;55mauthor\u001b[0m \u001b[38;2;165;55;55msays\u001b[0m \u001b[38;2;153;55;55mthat\u001b[0m \u001b[38;2;226;55;55malbuquerque\u001b[0m \u001b[38;2;177;55;55mwas\u001b[0m \u001b[38;2;119;55;55mthe\u001b[0m \u001b[38;2;165;55;55monly\u001b[0m \u001b[38;2;165;55;55mfilm\u001b[0m \u001b[38;2;255;55;55mhe\u001b[0m \u001b[38;2;165;55;55mpersonally\u001b[0m \u001b[38;2;208;55;55mdid\u001b[0m \u001b[38;2;165;55;55mnot\u001b[0m \u001b[38;2;165;55;55mreview\u001b[0m \u001b[38;2;165;55;55mbecause\u001b[0m \u001b[38;2;165;55;55mhe\u001b[0m \u001b[38;2;165;55;55mclaimed\u001b[0m \u001b[38;2;165;55;55mit\u001b[0m \u001b[38;2;165;55;55mwas\u001b[0m \u001b[38;2;169;55;55mlost\u001b[0m \n",
      "\u001b[48;2;55;55;194m  \u001b[0m\u001b[38;2;175;55;55mhadn\u001b[0m \u001b[38;2;255;55;55mt\u001b[0m \u001b[38;2;55;55;55mbeen\u001b[0m \u001b[38;2;175;55;55mseen\u001b[0m \u001b[38;2;175;55;55min\u001b[0m \u001b[38;2;175;55;55myears\u001b[0m \n",
      "\u001b[48;2;55;55;189m  \u001b[0m\u001b[38;2;166;55;55mbr\u001b[0m \u001b[38;2;166;55;55mbr\u001b[0m \u001b[38;2;166;55;55mgood\u001b[0m \u001b[38;2;207;55;55mthing\u001b[0m \u001b[38;2;166;55;55mfor\u001b[0m \u001b[38;2;197;55;55mwestern\u001b[0m \u001b[38;2;66;55;55mfans\u001b[0m \u001b[38;2;86;55;55msomebody\u001b[0m \u001b[38;2;166;55;55mwas\u001b[0m \u001b[38;2;215;55;55mdoing\u001b[0m \u001b[38;2;55;55;55msome\u001b[0m \u001b[38;2;166;55;55mspring\u001b[0m \u001b[38;2;166;55;55mcleaning\u001b[0m \u001b[38;2;223;55;55mat\u001b[0m \u001b[38;2;158;55;55mparamount\u001b[0m \u001b[38;2;166;55;55mbecause\u001b[0m \u001b[38;2;255;55;55ma\u001b[0m \u001b[38;2;166;55;55mprint\u001b[0m \u001b[38;2;227;55;55mwas\u001b[0m \u001b[38;2;166;55;55mapparently\u001b[0m \u001b[38;2;166;55;55mfound\u001b[0m \u001b[38;2;131;55;55mand\u001b[0m \u001b[38;2;166;55;55mnow\u001b[0m \u001b[38;2;207;55;55mit\u001b[0m \u001b[38;2;166;55;55ms\u001b[0m \u001b[38;2;166;55;55mout\u001b[0m \u001b[38;2;175;55;55mon\u001b[0m \u001b[38;2;247;55;55mthe\u001b[0m \u001b[38;2;194;55;55mopen\u001b[0m \u001b[38;2;166;55;55mmarket\u001b[0m \n",
      "\u001b[48;2;55;55;135m  \u001b[0m\u001b[38;2;184;55;55malbuquerque\u001b[0m \u001b[38;2;255;55;55mis\u001b[0m \u001b[38;2;71;55;55ma\u001b[0m \u001b[38;2;179;55;55mpretty\u001b[0m \u001b[38;2;113;55;55mgood\u001b[0m \u001b[38;2;202;55;55mwestern\u001b[0m \u001b[38;2;179;55;55mtoo\u001b[0m \u001b[38;2;179;55;55mwith\u001b[0m \u001b[38;2;179;55;55mscott\u001b[0m \u001b[38;2;239;55;55minvolved\u001b[0m \u001b[38;2;55;55;55min\u001b[0m \u001b[38;2;179;55;55ma\u001b[0m \u001b[38;2;179;55;55mfamily\u001b[0m \u001b[38;2;179;55;55mfeud\u001b[0m \u001b[38;2;170;55;55mwith\u001b[0m \u001b[38;2;201;55;55muncle\u001b[0m \u001b[38;2;179;55;55mgeorge\u001b[0m \u001b[38;2;185;55;55mcleveland\u001b[0m \n",
      "\u001b[48;2;55;55;154m  \u001b[0m\u001b[38;2;154;55;55mbr\u001b[0m \u001b[38;2;155;55;55mbr\u001b[0m \u001b[38;2;155;55;55mgeorge\u001b[0m \u001b[38;2;155;55;55mcleveland\u001b[0m \u001b[38;2;102;55;55msends\u001b[0m \u001b[38;2;155;55;55mfor\u001b[0m \u001b[38;2;155;55;55mhis\u001b[0m \u001b[38;2;87;55;55mnephew\u001b[0m \u001b[38;2;155;55;55mrandolph\u001b[0m \u001b[38;2;155;55;55mscott\u001b[0m \u001b[38;2;55;55;55mwith\u001b[0m \u001b[38;2;106;55;55mthe\u001b[0m \u001b[38;2;255;55;55mintention\u001b[0m \u001b[38;2;182;55;55mof\u001b[0m \u001b[38;2;155;55;55mmaking\u001b[0m \u001b[38;2;155;55;55mhim\u001b[0m \u001b[38;2;155;55;55mpart\u001b[0m \u001b[38;2;155;55;55mof\u001b[0m \u001b[38;2;155;55;55mhis\u001b[0m \u001b[38;2;155;55;55mfreighting\u001b[0m \u001b[38;2;155;55;55mbusiness\u001b[0m \u001b[38;2;132;55;55m,\u001b[0m \u001b[38;2;177;55;55mheadquartered\u001b[0m \u001b[38;2;155;55;55min\u001b[0m \u001b[38;2;135;55;55mthe\u001b[0m \u001b[38;2;155;55;55mfast\u001b[0m \u001b[38;2;155;55;55mgrowing\u001b[0m \u001b[38;2;155;55;55msettlement\u001b[0m \u001b[38;2;155;55;55mof\u001b[0m \u001b[38;2;155;55;55malbuquerque\u001b[0m \n",
      "\u001b[48;2;55;55;135m  \u001b[0m\u001b[38;2;189;55;55mcleveland\u001b[0m \u001b[38;2;174;55;55mis\u001b[0m \u001b[38;2;83;55;55mmore\u001b[0m \u001b[38;2;174;55;55mthan\u001b[0m \u001b[38;2;118;55;55mjust\u001b[0m \u001b[38;2;196;55;55ma\u001b[0m \u001b[38;2;64;55;55mbusiness\u001b[0m \u001b[38;2;174;55;55mowner\u001b[0m \u001b[38;2;174;55;55m,\u001b[0m \u001b[38;2;233;55;55mhe\u001b[0m \u001b[38;2;55;55;55ms\u001b[0m \u001b[38;2;124;55;55mthe\u001b[0m \u001b[38;2;252;55;55mtown\u001b[0m \u001b[38;2;174;55;55mboss\u001b[0m \u001b[38;2;174;55;55mwhich\u001b[0m \u001b[38;2;174;55;55mhe\u001b[0m \u001b[38;2;255;55;55mruns\u001b[0m \u001b[38;2;198;55;55mfrom\u001b[0m \u001b[38;2;174;55;55ma\u001b[0m \u001b[38;2;120;55;55mwheelchair\u001b[0m \n",
      "\u001b[48;2;55;55;135m  \u001b[0m\u001b[38;2;255;55;55mhe\u001b[0m \u001b[38;2;55;55;55meven\u001b[0m \u001b[38;2;55;55;55mhas\u001b[0m \u001b[38;2;55;55;55mthe\u001b[0m \u001b[38;2;55;55;55msheriff\u001b[0m \u001b[38;2;55;55;55min\u001b[0m \u001b[38;2;55;55;55mhis\u001b[0m \u001b[38;2;55;55;55mpocket\u001b[0m \n",
      "\u001b[48;2;55;55;135m  \u001b[0m\u001b[38;2;196;55;55mbr\u001b[0m \u001b[38;2;226;55;55mbr\u001b[0m \u001b[38;2;64;55;55mrandolph\u001b[0m \u001b[38;2;188;55;55mscott\u001b[0m \u001b[38;2;81;55;55mis\u001b[0m \u001b[38;2;255;55;55mnot\u001b[0m \u001b[38;2;55;55;55ma\u001b[0m \u001b[38;2;66;55;55mcowboy\u001b[0m \u001b[38;2;79;55;55mhero\u001b[0m \u001b[38;2;217;55;55mfor\u001b[0m \u001b[38;2;192;55;55mnothing\u001b[0m \n",
      "\u001b[48;2;55;55;255m  \u001b[0m\u001b[38;2;233;55;55mthat\u001b[0m \u001b[38;2;221;55;55mincludes\u001b[0m \u001b[38;2;129;55;55mnot\u001b[0m \u001b[38;2;193;55;55mbacking\u001b[0m \u001b[38;2;193;55;55mrelatives\u001b[0m \u001b[38;2;229;55;55mup\u001b[0m \u001b[38;2;55;55;55mwhen\u001b[0m \u001b[38;2;193;55;55mthey\u001b[0m \u001b[38;2;119;55;55mre\u001b[0m \u001b[38;2;255;55;55mvillains\u001b[0m \n",
      "\u001b[48;2;55;55;218m  \u001b[0m\u001b[38;2;172;55;55mhe\u001b[0m \u001b[38;2;237;55;55mgoes\u001b[0m \u001b[38;2;83;55;55mto\u001b[0m \u001b[38;2;172;55;55mwork\u001b[0m \u001b[38;2;172;55;55mfor\u001b[0m \u001b[38;2;172;55;55ma\u001b[0m \u001b[38;2;172;55;55mrival\u001b[0m \u001b[38;2;172;55;55moutfit\u001b[0m \u001b[38;2;172;55;55mheaded\u001b[0m \u001b[38;2;172;55;55mby\u001b[0m \u001b[38;2;55;55;55mbrother\u001b[0m \u001b[38;2;172;55;55mand\u001b[0m \u001b[38;2;255;55;55msister\u001b[0m \u001b[38;2;211;55;55mrussell\u001b[0m \u001b[38;2;158;55;55mhayden\u001b[0m \u001b[38;2;192;55;55mand\u001b[0m \u001b[38;2;252;55;55mcatherine\u001b[0m \u001b[38;2;189;55;55mcraig\u001b[0m \n",
      "\u001b[48;2;55;55;135m  \u001b[0m\u001b[38;2;147;55;55mbr\u001b[0m \u001b[38;2;147;55;55mbr\u001b[0m \u001b[38;2;147;55;55mcleveland\u001b[0m \u001b[38;2;212;55;55mis\u001b[0m \u001b[38;2;147;55;55mfull\u001b[0m \u001b[38;2;167;55;55mof\u001b[0m \u001b[38;2;67;55;55mall\u001b[0m \u001b[38;2;55;55;55mkinds\u001b[0m \u001b[38;2;119;55;55mof\u001b[0m \u001b[38;2;147;55;55mtricks\u001b[0m \u001b[38;2;147;55;55mand\u001b[0m \u001b[38;2;96;55;55mhe\u001b[0m \u001b[38;2;247;55;55meven\u001b[0m \u001b[38;2;147;55;55msends\u001b[0m \u001b[38;2;147;55;55mfor\u001b[0m \u001b[38;2;147;55;55ma\u001b[0m \u001b[38;2;255;55;55mwestern\u001b[0m \u001b[38;2;147;55;55mmata\u001b[0m \u001b[38;2;252;55;55mhari\u001b[0m \u001b[38;2;66;55;55min\u001b[0m \u001b[38;2;91;55;55mthe\u001b[0m \u001b[38;2;147;55;55mperson\u001b[0m \u001b[38;2;177;55;55mof\u001b[0m \u001b[38;2;210;55;55mbarbara\u001b[0m \u001b[38;2;147;55;55mbritton\u001b[0m \u001b[38;2;147;55;55mto\u001b[0m \u001b[38;2;110;55;55mworm\u001b[0m \u001b[38;2;186;55;55mher\u001b[0m \u001b[38;2;183;55;55mway\u001b[0m \u001b[38;2;74;55;55minto\u001b[0m \u001b[38;2;58;55;55mthe\u001b[0m \u001b[38;2;147;55;55mconfidence\u001b[0m \u001b[38;2;147;55;55mof\u001b[0m \u001b[38;2;147;55;55mhis\u001b[0m \u001b[38;2;206;55;55mrivals\u001b[0m \n",
      "\u001b[48;2;55;55;55m  \u001b[0m\u001b[38;2;134;55;55mbarbara\u001b[0m \u001b[38;2;169;55;55ms\u001b[0m \u001b[38;2;169;55;55mgreat\u001b[0m \u001b[38;2;255;55;55mas\u001b[0m \u001b[38;2;169;55;55mthe\u001b[0m \u001b[38;2;188;55;55mhomespun\u001b[0m \u001b[38;2;169;55;55mvixen\u001b[0m \u001b[38;2;55;55;55mwho\u001b[0m \u001b[38;2;153;55;55mdevelops\u001b[0m \u001b[38;2;231;55;55mher\u001b[0m \u001b[38;2;56;55;55mown\u001b[0m \u001b[38;2;169;55;55magenda\u001b[0m \n",
      "\u001b[48;2;55;55;137m  \u001b[0m\u001b[38;2;127;55;55mbr\u001b[0m \u001b[38;2;219;55;55mbr\u001b[0m \u001b[38;2;145;55;55mrandolph\u001b[0m \u001b[38;2;145;55;55mscott\u001b[0m \u001b[38;2;77;55;55ms\u001b[0m \u001b[38;2;145;55;55moriginal\u001b[0m \u001b[38;2;63;55;55mhome\u001b[0m \u001b[38;2;145;55;55mstudio\u001b[0m \u001b[38;2;116;55;55mwas\u001b[0m \u001b[38;2;187;55;55mparamount\u001b[0m \u001b[38;2;55;55;55m,\u001b[0m \u001b[38;2;95;55;55mit\u001b[0m \u001b[38;2;235;55;55mwas\u001b[0m \u001b[38;2;182;55;55mwhere\u001b[0m \u001b[38;2;146;55;55mhis\u001b[0m \u001b[38;2;145;55;55mfirst\u001b[0m \u001b[38;2;255;55;55mstudio\u001b[0m \u001b[38;2;122;55;55mcontract\u001b[0m \u001b[38;2;235;55;55mwas\u001b[0m \u001b[38;2;68;55;55mwith\u001b[0m \n",
      "\u001b[48;2;55;55;135m  \u001b[0m\u001b[38;2;161;55;55malbuquerque\u001b[0m \u001b[38;2;239;55;55mmarked\u001b[0m \u001b[38;2;161;55;55mthe\u001b[0m \u001b[38;2;222;55;55mlast\u001b[0m \u001b[38;2;85;55;55mfilm\u001b[0m \u001b[38;2;193;55;55mhe\u001b[0m \u001b[38;2;74;55;55mever\u001b[0m \u001b[38;2;55;55;55mdid\u001b[0m \u001b[38;2;161;55;55mfor\u001b[0m \u001b[38;2;161;55;55mparamount\u001b[0m \u001b[38;2;161;55;55mand\u001b[0m \u001b[38;2;161;55;55mthey\u001b[0m \u001b[38;2;255;55;55mgave\u001b[0m \u001b[38;2;206;55;55mhim\u001b[0m \u001b[38;2;161;55;55ma\u001b[0m \u001b[38;2;178;55;55mgood\u001b[0m \u001b[38;2;161;55;55mone\u001b[0m \n",
      "\u001b[48;2;55;55;151m  \u001b[0m\u001b[38;2;193;55;55mbr\u001b[0m \u001b[38;2;190;55;55mbr\u001b[0m \u001b[38;2;190;55;55mnote\u001b[0m \u001b[38;2;190;55;55malso\u001b[0m \u001b[38;2;55;55;55mlon\u001b[0m \u001b[38;2;255;55;55mchaney\u001b[0m \u001b[38;2;190;55;55m,\u001b[0m \u001b[38;2;190;55;55mjr\u001b[0m \n",
      "\u001b[48;2;55;55;135m  \u001b[0m\u001b[38;2;180;55;55m,\u001b[0m \u001b[38;2;201;55;55mwho\u001b[0m \u001b[38;2;85;55;55mis\u001b[0m \u001b[38;2;181;55;55mgeorge\u001b[0m \u001b[38;2;109;55;55mcleveland\u001b[0m \u001b[38;2;168;55;55ms\u001b[0m \u001b[38;2;168;55;55mchief\u001b[0m \u001b[38;2;168;55;55mhenchman\u001b[0m \u001b[38;2;88;55;55m,\u001b[0m \u001b[38;2;168;55;55ma\u001b[0m \u001b[38;2;55;55;55mrather\u001b[0m \u001b[38;2;119;55;55mloathsome\u001b[0m \u001b[38;2;168;55;55mbully\u001b[0m \u001b[38;2;246;55;55mof\u001b[0m \u001b[38;2;156;55;55ma\u001b[0m \u001b[38;2;146;55;55mman\u001b[0m \u001b[38;2;168;55;55mand\u001b[0m \u001b[38;2;255;55;55mgabby\u001b[0m \u001b[38;2;192;55;55mhayes\u001b[0m \u001b[38;2;168;55;55m,\u001b[0m \u001b[38;2;168;55;55mwho\u001b[0m \u001b[38;2;168;55;55mis\u001b[0m \u001b[38;2;193;55;55mjust\u001b[0m \u001b[38;2;168;55;55mgabby\u001b[0m \u001b[38;2;168;55;55mhayes\u001b[0m \n",
      "\u001b[48;2;55;55;158m  \u001b[0m\u001b[38;2;177;55;55mbr\u001b[0m \u001b[38;2;177;55;55mbr\u001b[0m \u001b[38;2;177;55;55malbuquerque\u001b[0m \u001b[38;2;177;55;55mmust\u001b[0m \u001b[38;2;177;55;55mhave\u001b[0m \u001b[38;2;177;55;55mbeen\u001b[0m \u001b[38;2;64;55;55mloved\u001b[0m \u001b[38;2;112;55;55mby\u001b[0m \u001b[38;2;177;55;55mrepublicans\u001b[0m \u001b[38;2;228;55;55macross\u001b[0m \u001b[38;2;61;55;55mthe\u001b[0m \u001b[38;2;119;55;55mnation\u001b[0m \u001b[38;2;255;55;55min\u001b[0m \u001b[38;2;225;55;55mwith\u001b[0m \u001b[38;2;172;55;55mits\u001b[0m \u001b[38;2;195;55;55mchief\u001b[0m \u001b[38;2;177;55;55mvillain\u001b[0m \u001b[38;2;177;55;55mas\u001b[0m \u001b[38;2;233;55;55ma\u001b[0m \u001b[38;2;177;55;55mtown\u001b[0m \u001b[38;2;177;55;55mboss\u001b[0m \u001b[38;2;177;55;55mwho\u001b[0m \u001b[38;2;177;55;55mrules\u001b[0m \u001b[38;2;222;55;55mfrom\u001b[0m \u001b[38;2;145;55;55ma\u001b[0m \u001b[38;2;55;55;55mwheelchair\u001b[0m \n",
      "\u001b[48;2;55;55;172m  \u001b[0m\u001b[38;2;195;55;55ma\u001b[0m \u001b[38;2;164;55;55mcertain\u001b[0m \u001b[38;2;119;55;55mdemocrat\u001b[0m \u001b[38;2;164;55;55mfrom\u001b[0m \u001b[38;2;125;55;55ma\u001b[0m \u001b[38;2;188;55;55mwheelchair\u001b[0m \u001b[38;2;164;55;55mhad\u001b[0m \u001b[38;2;130;55;55mmade\u001b[0m \u001b[38;2;164;55;55mhash\u001b[0m \u001b[38;2;215;55;55mof\u001b[0m \u001b[38;2;55;55;55mthem\u001b[0m \u001b[38;2;164;55;55mfor\u001b[0m \u001b[38;2;164;55;55mfour\u001b[0m \u001b[38;2;164;55;55mstraight\u001b[0m \u001b[38;2;164;55;55mpresidential\u001b[0m \u001b[38;2;158;55;55melections\u001b[0m \u001b[38;2;164;55;55mand\u001b[0m \u001b[38;2;255;55;55mhe\u001b[0m \u001b[38;2;164;55;55mwas\u001b[0m \u001b[38;2;150;55;55mgone\u001b[0m \n",
      "\u001b[48;2;55;55;67m  \u001b[0m\u001b[38;2;187;55;55mthey\u001b[0m \u001b[38;2;187;55;55mhad\u001b[0m \u001b[38;2;187;55;55mhigh\u001b[0m \u001b[38;2;220;55;55mhopes\u001b[0m \u001b[38;2;187;55;55mof\u001b[0m \u001b[38;2;218;55;55mwinning\u001b[0m \u001b[38;2;187;55;55mthe\u001b[0m \u001b[38;2;187;55;55mwhite\u001b[0m \u001b[38;2;187;55;55mhouse\u001b[0m \u001b[38;2;255;55;55mthat\u001b[0m \u001b[38;2;55;55;55myear\u001b[0m \u001b[38;2;129;55;55mtoo\u001b[0m \u001b[38;2;227;55;55m,\u001b[0m \u001b[38;2;187;55;55mbut\u001b[0m \u001b[38;2;155;55;55mthings\u001b[0m \u001b[38;2;187;55;55mwent\u001b[0m \u001b[38;2;187;55;55mawry\u001b[0m \u001b[38;2;187;55;55mand\u001b[0m \u001b[38;2;187;55;55mthey\u001b[0m \u001b[38;2;187;55;55mhad\u001b[0m \u001b[38;2;158;55;55mto\u001b[0m \u001b[38;2;187;55;55msettle\u001b[0m \u001b[38;2;187;55;55mfor\u001b[0m \u001b[38;2;187;55;55man\u001b[0m \u001b[38;2;187;55;55mersatz\u001b[0m \u001b[38;2;187;55;55mboss\u001b[0m \u001b[38;2;187;55;55mgetting\u001b[0m \u001b[38;2;187;55;55mhis\u001b[0m \u001b[38;2;187;55;55mcomeuppance\u001b[0m \u001b[38;2;187;55;55min\u001b[0m \u001b[38;2;187;55;55malbuquerque\u001b[0m \n",
      "\u001b[48;2;55;55;135m  \u001b[0m\u001b[38;2;142;55;55mi\u001b[0m \u001b[38;2;142;55;55mm\u001b[0m \u001b[38;2;82;55;55mnot\u001b[0m \u001b[38;2;142;55;55msure\u001b[0m \u001b[38;2;142;55;55mwhy\u001b[0m \u001b[38;2;142;55;55mcleveland\u001b[0m \u001b[38;2;78;55;55mwas\u001b[0m \u001b[38;2;142;55;55min\u001b[0m \u001b[38;2;56;55;55ma\u001b[0m \u001b[38;2;153;55;55mwheelchair\u001b[0m \u001b[38;2;55;55;55msince\u001b[0m \u001b[38;2;142;55;55mnothing\u001b[0m \u001b[38;2;109;55;55mwas\u001b[0m \u001b[38;2;218;55;55mreally\u001b[0m \u001b[38;2;124;55;55mmade\u001b[0m \u001b[38;2;88;55;55mof\u001b[0m \u001b[38;2;195;55;55mit\u001b[0m \u001b[38;2;255;55;55min\u001b[0m \u001b[38;2;142;55;55mthe\u001b[0m \u001b[38;2;96;55;55mplot\u001b[0m \n",
      "\u001b[48;2;55;55;111m  \u001b[0m\u001b[38;2;216;55;55mmy\u001b[0m \u001b[38;2;245;55;55mguess\u001b[0m \u001b[38;2;188;55;55mis\u001b[0m \u001b[38;2;235;55;55mhe\u001b[0m \u001b[38;2;188;55;55mwas\u001b[0m \u001b[38;2;224;55;55minjured\u001b[0m \u001b[38;2;55;55;55mand\u001b[0m \u001b[38;2;188;55;55mplayed\u001b[0m \u001b[38;2;124;55;55mthe\u001b[0m \u001b[38;2;252;55;55mpart\u001b[0m \u001b[38;2;188;55;55mthat\u001b[0m \u001b[38;2;188;55;55mway\u001b[0m \u001b[38;2;255;55;55mbecause\u001b[0m \u001b[38;2;253;55;55mhe\u001b[0m \u001b[38;2;169;55;55mhad\u001b[0m \u001b[38;2;190;55;55mto\u001b[0m \n",
      "\u001b[48;2;55;55;135m  \u001b[0m\u001b[38;2;178;55;55mbr\u001b[0m \u001b[38;2;255;55;55mbr\u001b[0m \u001b[38;2;81;55;55mstill\u001b[0m \u001b[38;2;178;55;55malbuquerque\u001b[0m \u001b[38;2;178;55;55mmust\u001b[0m \u001b[38;2;195;55;55mhave\u001b[0m \u001b[38;2;178;55;55mhad\u001b[0m \u001b[38;2;120;55;55mgreat\u001b[0m \u001b[38;2;178;55;55mappeal\u001b[0m \u001b[38;2;247;55;55mto\u001b[0m \u001b[38;2;55;55;55mthe\u001b[0m \u001b[38;2;123;55;55mgop\u001b[0m \u001b[38;2;178;55;55mmarket\u001b[0m \n"
     ]
    }
   ],
   "source": [
    "tf.reset_default_graph()\n",
    "\n",
    "batches_split = preprocess_batched_split(reviews, Embedding(), batch_size=10)\n",
    "\n",
    "config = tf.ConfigProto(allow_soft_placement=True)\n",
    "with tf.Session(config=config) as session:\n",
    "    model, saver = HAN_model(session)\n",
    "    \n",
    "    data, labels_batch, sent_per_doc, words_per_sent_per_doc, sents_batch = next(batches_split)\n",
    "    \n",
    "    fd = {\n",
    "        model.is_training: True,\n",
    "        model.inputs_embedded: data,\n",
    "        model.word_lengths: words_per_sent_per_doc,\n",
    "        model.sentence_lengths: sent_per_doc,\n",
    "        model.labels: labels_batch,\n",
    "        model.sample_weights: np.ones(shape=(10))\n",
    "    }\n",
    "    \n",
    "    sent_atts, word_atts = session.run([model.sentence_level_output, model.word_level_output],\n",
    "                                       feed_dict=fd)\n",
    "    \n",
    "    sent = sents_batch[0]\n",
    "    sent_att = sent_atts[0, :len(sent)]\n",
    "    word_att = word_atts[:len(sent), :]\n",
    "    \n",
    "    visualize(sent, sent_att, word_att)"
   ]
  },
  {
   "cell_type": "markdown",
   "metadata": {},
   "source": [
    "## Attention weight distribution"
   ]
  },
  {
   "cell_type": "code",
   "execution_count": 52,
   "metadata": {},
   "outputs": [
    {
     "name": "stdout",
     "output_type": "stream",
     "text": [
      "Reading model parameters from checkpoints/checkpoint-2400\n",
      "INFO:tensorflow:Restoring parameters from checkpoints/checkpoint-2400\n",
      "Iteration 100\n",
      "Iteration 200\n",
      "Iteration 300\n"
     ]
    }
   ],
   "source": [
    "tf.reset_default_graph()\n",
    "\n",
    "batches_split = preprocess_batched_split(reviews, Embedding(), batch_size=10)\n",
    "\n",
    "iter_step = 100\n",
    "iter_count = 300\n",
    "\n",
    "count = defaultdict(list)\n",
    "\n",
    "config = tf.ConfigProto(allow_soft_placement=True)\n",
    "with tf.Session(config=config) as session:\n",
    "    model, saver = HAN_model(session)\n",
    "    \n",
    "    for it, (data, labels_batch, sent_per_doc, words_per_sent_per_doc, sents_batch) in enumerate(batches_split, 1):\n",
    "        fd = {\n",
    "            model.is_training: True,\n",
    "            model.inputs_embedded: data,\n",
    "            model.word_lengths: words_per_sent_per_doc,\n",
    "            model.sentence_lengths: sent_per_doc,\n",
    "            model.labels: labels_batch,\n",
    "            model.sample_weights: np.ones(shape=(10))\n",
    "        }\n",
    "\n",
    "        sent_atts, word_atts = session.run([model.sentence_level_output, model.word_level_output],\n",
    "                                           feed_dict=fd)\n",
    "\n",
    "        i = 0\n",
    "\n",
    "        for sents, label in zip(sents_batch, labels_batch):\n",
    "            for sent in sents:\n",
    "                for j, word in enumerate(sent):\n",
    "                    if word == \"good\" or word == \"bad\":\n",
    "                        count[(word, label)].append(word_atts[i, j])\n",
    "                i += 1\n",
    "            i += 1  \n",
    "    \n",
    "        if it % iter_step == 0:\n",
    "            print(\"Iteration {}\".format(it))\n",
    "            \n",
    "        if it == iter_count:\n",
    "            break"
   ]
  },
  {
   "cell_type": "markdown",
   "metadata": {},
   "source": [
    "### Plot distribution"
   ]
  },
  {
   "cell_type": "code",
   "execution_count": 53,
   "metadata": {},
   "outputs": [
    {
     "data": {
      "image/png": "[encoded data removed]",
      "text/plain": [
       "<matplotlib.figure.Figure at 0x2b3e6e3a0898>"
      ]
     },
     "metadata": {},
     "output_type": "display_data"
    }
   ],
   "source": [
    "min_value = 0.2\n",
    "\n",
    "for (word, label), values in count.items():\n",
    "    x = np.array(values)\n",
    "    sns.kdeplot(x[x >= min_value], shade=True, label=\"\\\"{}\\\" with label {}\".format(word, label))"
   ]
  },
  {
   "cell_type": "markdown",
   "metadata": {},
   "source": [
    "## HAN accuracy"
   ]
  },
  {
   "cell_type": "code",
   "execution_count": 40,
   "metadata": {},
   "outputs": [
    {
     "name": "stdout",
     "output_type": "stream",
     "text": [
      "Reading model parameters from checkpoints/checkpoint-2400\n",
      "INFO:tensorflow:Restoring parameters from checkpoints/checkpoint-2400\n",
      "Iteration 10: accuracy = 82.0%\n",
      "Iteration 20: accuracy = 84.0%\n",
      "Iteration 30: accuracy = 88.0%\n",
      "Iteration 40: accuracy = 86.0%\n",
      "Iteration 50: accuracy = 81.0%\n",
      "Iteration 60: accuracy = 85.0%\n",
      "Iteration 70: accuracy = 87.0%\n",
      "Iteration 80: accuracy = 74.0%\n",
      "Iteration 90: accuracy = 89.0%\n",
      "Iteration 100: accuracy = 83.0%\n"
     ]
    }
   ],
   "source": [
    "tf.reset_default_graph()\n",
    "\n",
    "batches_split = preprocess_batched_split(reviews, Embedding(), batch_size=10)\n",
    "\n",
    "iter_step = 10\n",
    "iter_count = 100\n",
    "\n",
    "config = tf.ConfigProto(allow_soft_placement=True)\n",
    "with tf.Session(config=config) as session:\n",
    "    model, saver = HAN_model(session)\n",
    "    \n",
    "    total_accuracy = 0\n",
    "    \n",
    "    for it, (data, labels_batch, sent_per_doc, words_per_sent_per_doc, sents_batch) in enumerate(batches_split, 1):\n",
    "        fd = {\n",
    "            model.is_training: True,\n",
    "            model.inputs_embedded: data,\n",
    "            model.word_lengths: words_per_sent_per_doc,\n",
    "            model.sentence_lengths: sent_per_doc,\n",
    "            model.labels: labels_batch,\n",
    "            model.sample_weights: np.ones(shape=(10))\n",
    "        }\n",
    "\n",
    "        accuracy = session.run([model.accuracy], feed_dict=fd)\n",
    "        total_accuracy += accuracy[0]\n",
    "        \n",
    "        if it % iter_step == 0:\n",
    "            print(\"Iteration {}: accuracy = {:3.1f}%\".format(it, 100 * total_accuracy / iter_step))\n",
    "            total_accuracy = 0\n",
    "        \n",
    "        if it == iter_count:\n",
    "            break"
   ]
  },
  {
   "cell_type": "markdown",
   "metadata": {},
   "source": [
    "## SequenceClassificationModel accuracy"
   ]
  },
  {
   "cell_type": "code",
   "execution_count": 33,
   "metadata": {},
   "outputs": [],
   "source": [
    "class SequenceClassificationModel:\n",
    "    def __init__(self, params):\n",
    "        self.params = params\n",
    "        self._create_placeholders()\n",
    "        self.prediction\n",
    "        self.cost\n",
    "        self.error\n",
    "        self.optimize\n",
    "        self.global_step = 0\n",
    "        self.sess = tf.Session()\n",
    "        self.sess.run(tf.global_variables_initializer())\n",
    "        \n",
    "    def load(self, folder):\n",
    "        saver = tf.train.Saver()\n",
    "\n",
    "        if os.path.isdir(folder):\n",
    "            saver.restore(self.sess, tf.train.latest_checkpoint(folder))\n",
    "        else:\n",
    "            raise RuntimeError(\"Checkpoint is not found!\")\n",
    "    \n",
    "    def _create_placeholders(self):\n",
    "        with tf.name_scope(\"data\"):\n",
    "            self.data = tf.placeholder(tf.float32, [None, self.params.seq_length, self.params.embed_length])\n",
    "            self.target = tf.placeholder(tf.float32, [None, 2])\n",
    "            \n",
    "    @lazy\n",
    "    def length(self):\n",
    "        with tf.name_scope(\"seq_length\"):\n",
    "            used = tf.sign(tf.reduce_max(tf.abs(self.data), reduction_indices=2))\n",
    "            length = tf.reduce_sum(used, reduction_indices=1)\n",
    "            length = tf.cast(length, tf.int32)\n",
    "        return length\n",
    "    \n",
    "    @lazy\n",
    "    def prediction(self):\n",
    "        with tf.name_scope(\"recurrent_layer\"):\n",
    "            output, _ = tf.nn.dynamic_rnn(\n",
    "                self.params.rnn_cell(self.params.rnn_hidden),\n",
    "                self.data,\n",
    "                dtype=tf.float32,\n",
    "                sequence_length=self.length\n",
    "            )\n",
    "        last = self._last_relevant(output, self.length)\n",
    "\n",
    "        with tf.name_scope(\"softmax_layer\"):\n",
    "            num_classes = int(self.target.get_shape()[1])\n",
    "            weight = tf.Variable(tf.truncated_normal(\n",
    "                [self.params.rnn_hidden, num_classes], stddev=0.01))\n",
    "            bias = tf.Variable(tf.constant(0.1, shape=[num_classes]))\n",
    "            prediction = tf.nn.softmax(tf.matmul(last, weight) + bias)\n",
    "        return prediction\n",
    "    \n",
    "    @lazy\n",
    "    def cost(self):\n",
    "        cross_entropy = -tf.reduce_sum(self.target * tf.log(self.prediction))\n",
    "        return cross_entropy\n",
    "    \n",
    "    @lazy\n",
    "    def error(self):\n",
    "        self.mistakes = tf.not_equal(tf.argmax(self.target, 1), tf.argmax(self.prediction, 1))\n",
    "        return tf.reduce_mean(tf.cast(self.mistakes, tf.float32))\n",
    "    \n",
    "    @lazy\n",
    "    def optimize(self):\n",
    "        with tf.name_scope(\"optimization\"):\n",
    "            gradient = self.params.optimizer.compute_gradients(self.cost)\n",
    "            if self.params.gradient_clipping:\n",
    "                limit = self.params.gradient_clipping\n",
    "                gradient = [\n",
    "                    (tf.clip_by_value(g, -limit, limit), v)\n",
    "                    if g is not None else (None, v)\n",
    "                    for g, v in gradient]\n",
    "            optimize = self.params.optimizer.apply_gradients(gradient)\n",
    "        return optimize\n",
    "    \n",
    "    @staticmethod\n",
    "    def _last_relevant(output, length):\n",
    "        with tf.name_scope(\"last_relevant\"):\n",
    "            batch_size = tf.shape(output)[0]\n",
    "            max_length = int(output.get_shape()[1])\n",
    "            output_size = int(output.get_shape()[2])\n",
    "\n",
    "            index = tf.range(0, batch_size) * max_length + (length - 1)\n",
    "            flat = tf.reshape(output, [-1, output_size])\n",
    "            relevant = tf.gather(flat, index)\n",
    "        return relevant\n",
    "    \n",
    "    def test(self, batches, iter_step, iter_count):\n",
    "        total_accuracy = 0\n",
    "        \n",
    "        for it, batch in enumerate(batches, 1):\n",
    "            feed = {model.data: batch[0], model.target: batch[1]}\n",
    "            error = self.sess.run([model.error], feed)\n",
    "            total_accuracy += (1.0 - error[0])\n",
    "            \n",
    "            if it % iter_step == 0:\n",
    "                print(\"Iteration {}: accuracy = {:3.1f}%\".format(it, 100 * total_accuracy / iter_step))\n",
    "                total_accuracy = 0\n",
    "                \n",
    "            if it == iter_count:\n",
    "                break\n",
    "            \n",
    "    def close(self):\n",
    "        tf.reset_default_graph()\n",
    "        self.sess.close()"
   ]
  },
  {
   "cell_type": "code",
   "execution_count": 21,
   "metadata": {
    "collapsed": true
   },
   "outputs": [],
   "source": [
    "def preprocess_batched(iterator, length, embedding, batch_size):\n",
    "    iterator = iter(iterator)\n",
    "    \n",
    "    while True:\n",
    "        data = np.zeros((batch_size, length, embedding.dimensions))\n",
    "        target = np.zeros((batch_size, 2))\n",
    "  \n",
    "        for index in range(batch_size):\n",
    "            text, label = next(iterator)\n",
    "            data[index] = embedding(text, length)\n",
    "            target[index] = [1, 0] if label else [0, 1]\n",
    "            \n",
    "        yield data, target"
   ]
  },
  {
   "cell_type": "code",
   "execution_count": 22,
   "metadata": {},
   "outputs": [],
   "source": [
    "length = max(len(x[0]) for x in reviews)\n",
    "embedding = Embedding()\n",
    "\n",
    "params = AttrDict(\n",
    "    rnn_cell=tf.contrib.rnn.GRUCell,\n",
    "    rnn_hidden=300,\n",
    "    optimizer=tf.train.RMSPropOptimizer(0.002),\n",
    "    batch_size=20,\n",
    "    gradient_clipping=100,\n",
    "    seq_length=length,\n",
    "    embed_length=embedding.dimensions\n",
    ")"
   ]
  },
  {
   "cell_type": "code",
   "execution_count": 23,
   "metadata": {
    "collapsed": true
   },
   "outputs": [],
   "source": [
    "batches = preprocess_batched(reviews, length, embedding, params.batch_size)"
   ]
  },
  {
   "cell_type": "code",
   "execution_count": 38,
   "metadata": {
    "collapsed": true
   },
   "outputs": [],
   "source": [
    "tf.reset_default_graph()"
   ]
  },
  {
   "cell_type": "code",
   "execution_count": 39,
   "metadata": {},
   "outputs": [
    {
     "name": "stderr",
     "output_type": "stream",
     "text": [
      "/home/y_rebryk/anaconda3/lib/python3.6/site-packages/tensorflow/python/ops/gradients_impl.py:95: UserWarning: Converting sparse IndexedSlices to a dense Tensor of unknown shape. This may consume a large amount of memory.\n",
      "  \"Converting sparse IndexedSlices to a dense Tensor of unknown shape. \"\n"
     ]
    },
    {
     "name": "stdout",
     "output_type": "stream",
     "text": [
      "INFO:tensorflow:Restoring parameters from ./no_att_checkpoints/simple-rnn-1240\n",
      "Iteration 10: accuracy = 87.0%\n",
      "Iteration 20: accuracy = 86.5%\n",
      "Iteration 30: accuracy = 88.5%\n",
      "Iteration 40: accuracy = 86.0%\n",
      "Iteration 50: accuracy = 91.0%\n",
      "Iteration 60: accuracy = 84.5%\n",
      "Iteration 70: accuracy = 88.0%\n",
      "Iteration 80: accuracy = 87.5%\n",
      "Iteration 90: accuracy = 91.0%\n",
      "Iteration 100: accuracy = 86.0%\n"
     ]
    }
   ],
   "source": [
    "iter_step = 10\n",
    "iter_count = 100\n",
    "\n",
    "model = SequenceClassificationModel(params)\n",
    "model.load(\"./no_att_checkpoints/\")\n",
    "model.test(batches, iter_step, iter_count)\n",
    "model.close()"
   ]
  }
 ],
 "metadata": {
  "kernelspec": {
   "display_name": "Python 3",
   "language": "python",
   "name": "python3"
  },
  "language_info": {
   "codemirror_mode": {
    "name": "ipython",
    "version": 3
   },
   "file_extension": ".py",
   "mimetype": "text/x-python",
   "name": "python",
   "nbconvert_exporter": "python",
   "pygments_lexer": "ipython3",
   "version": "3.6.1"
  }
 },
 "nbformat": 4,
 "nbformat_minor": 2
}
