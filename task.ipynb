{
 "cells": [
  {
   "cell_type": "code",
   "execution_count": 1,
   "metadata": {},
   "outputs": [
    {
     "name": "stderr",
     "output_type": "stream",
     "text": [
      "/home/y_rebryk/anaconda3/lib/python3.6/site-packages/sklearn/cross_validation.py:44: DeprecationWarning: This module was deprecated in version 0.18 in favor of the model_selection module into which all the refactored classes and functions are moved. Also note that the interface of the new CV iterators are different from that of this module. This module will be removed in 0.20.\n",
      "  \"This module will be removed in 0.20.\", DeprecationWarning)\n"
     ]
    }
   ],
   "source": [
    "import os\n",
    "import random\n",
    "import numpy as np\n",
    "import pandas as pd\n",
    "import tensorflow as tf\n",
    "import xgboost as xgb\n",
    "import matplotlib.pyplot as plt\n",
    "\n",
    "from sklearn.manifold import TSNE"
   ]
  },
  {
   "cell_type": "markdown",
   "metadata": {},
   "source": [
    "## Dataset"
   ]
  },
  {
   "cell_type": "code",
   "execution_count": 2,
   "metadata": {
    "collapsed": true
   },
   "outputs": [],
   "source": [
    "from collections import Counter\n",
    "\n",
    "def get_most_frequent_families(metadata, count):\n",
    "    counter = Counter(metadata[\"FamilyID\"])\n",
    "    return {family: index for index, (family, count) in enumerate(counter.most_common()[:count])}"
   ]
  },
  {
   "cell_type": "code",
   "execution_count": 3,
   "metadata": {
    "collapsed": true
   },
   "outputs": [],
   "source": [
    "class Proteins:\n",
    "    def __init__(self, metadata, sequences, count):\n",
    "        self.count = count\n",
    "        self.metadata = pd.read_table(metadata)\n",
    "        self.sequences = pd.read_table(sequences)\n",
    "        self.families = get_most_frequent_families(self.metadata, self.count)\n",
    "        \n",
    "    def __iter__(self):\n",
    "        for index, row in self.sequences.iterrows():\n",
    "            family_id = self.families.get(self.metadata.iloc[index][\"FamilyID\"], None)\n",
    "            \n",
    "            if family_id is not None:\n",
    "                yield self._build_sequence(row[\"Sequences\"]), family_id\n",
    "    \n",
    "    @staticmethod\n",
    "    def _build_sequence(seq):\n",
    "        crop = len(seq) % 3\n",
    "        return [seq[i:i+3] for i in range(0, len(seq) - crop, 3)]"
   ]
  },
  {
   "cell_type": "code",
   "execution_count": 4,
   "metadata": {
    "collapsed": true
   },
   "outputs": [],
   "source": [
    "proteins = Proteins(metadata=\"data/family_classification_metadata.tab\", \n",
    "                    sequences=\"data/family_classification_sequences.tab\",\n",
    "                    count=100)"
   ]
  },
  {
   "cell_type": "markdown",
   "metadata": {},
   "source": [
    "## Embedding"
   ]
  },
  {
   "cell_type": "code",
   "execution_count": 5,
   "metadata": {
    "collapsed": true
   },
   "outputs": [],
   "source": [
    "class Embedding:\n",
    "    def __init__(self, filename, length):\n",
    "        self._length = length\n",
    "        self._embedding = self._read_embedding(filename)\n",
    "        self.dimension = 100\n",
    "        \n",
    "    def __call__(self, sequence):\n",
    "        embedding = np.zeros((self._length, self.dimension))\n",
    "        \n",
    "        for i, word in enumerate(sequence):\n",
    "            embedding[i] = self._embedding.get(word, self._embedding[\"<unk>\"])\n",
    "            \n",
    "        return embedding\n",
    "    \n",
    "    @staticmethod\n",
    "    def _read_embedding(filename):\n",
    "        data = {}\n",
    "\n",
    "        with open(filename, \"r\") as file:\n",
    "            for line in file.readlines():\n",
    "                codone, *values = line.strip()[1:-1].split(\"\\t\")\n",
    "                data[codone] = np.array(list(map(lambda x: np.float(x), values)))\n",
    "\n",
    "        return data"
   ]
  },
  {
   "cell_type": "markdown",
   "metadata": {},
   "source": [
    "## Sequence Classification Model"
   ]
  },
  {
   "cell_type": "code",
   "execution_count": 6,
   "metadata": {
    "collapsed": true
   },
   "outputs": [],
   "source": [
    "from lazy import lazy\n",
    "\n",
    "class SequenceClassificationModel:\n",
    "    def __init__(self, params):\n",
    "        self.params = params\n",
    "        self._create_placeholders()\n",
    "        self.prediction\n",
    "        self.cost\n",
    "        self.error\n",
    "        self.optimize\n",
    "        self._create_summaries()\n",
    "    \n",
    "    def _create_placeholders(self):\n",
    "        with tf.name_scope(\"data\"):\n",
    "            self.data = tf.placeholder(tf.float32, [None, self.params.seq_length, self.params.embed_length])\n",
    "            self.target = tf.placeholder(tf.float32, [None, self.params.classes_count])\n",
    "  \n",
    "    def _create_summaries(self):\n",
    "        with tf.name_scope(\"summaries\"):\n",
    "            tf.summary.scalar(\"loss\", self.cost)\n",
    "            tf.summary.scalar(\"error\", self.error)\n",
    "            self.summary = tf.summary.merge_all()\n",
    "            saver = tf.train.Saver()\n",
    "            \n",
    "    @lazy\n",
    "    def length(self):\n",
    "        with tf.name_scope(\"seq_length\"):\n",
    "            used = tf.sign(tf.reduce_max(tf.abs(self.data), reduction_indices=2))\n",
    "            length = tf.reduce_sum(used, reduction_indices=1)\n",
    "            length = tf.cast(length, tf.int32)\n",
    "            \n",
    "        return length\n",
    "    \n",
    "    @lazy\n",
    "    def prediction(self): \n",
    "        with tf.name_scope(\"recurrent_layer\"):\n",
    "            output, _ = tf.nn.dynamic_rnn(\n",
    "                self.params.rnn_cell(self.params.rnn_hidden),\n",
    "                self.data,\n",
    "                dtype=tf.float32,\n",
    "                sequence_length=self.length\n",
    "            )\n",
    "            \n",
    "        last = self._last_relevant(output, self.length)\n",
    "\n",
    "        with tf.name_scope(\"softmax_layer\"):\n",
    "            num_classes = int(self.target.get_shape()[1])\n",
    "            weight = tf.Variable(tf.truncated_normal(\n",
    "                [self.params.rnn_hidden, num_classes], stddev=0.01))\n",
    "            bias = tf.Variable(tf.constant(0.1, shape=[num_classes]))\n",
    "            prediction = tf.nn.softmax(tf.matmul(last, weight) + bias)\n",
    "            \n",
    "        return prediction\n",
    "    \n",
    "    @lazy\n",
    "    def cost(self):\n",
    "        cross_entropy = -tf.reduce_sum(self.target * tf.log(self.prediction))\n",
    "        return cross_entropy\n",
    "    \n",
    "    @lazy\n",
    "    def error(self):\n",
    "        self.mistakes = tf.not_equal(tf.argmax(self.target, 1), tf.argmax(self.prediction, 1))\n",
    "        return tf.reduce_mean(tf.cast(self.mistakes, tf.float32))\n",
    "    \n",
    "    @lazy\n",
    "    def optimize(self):\n",
    "        with tf.name_scope(\"optimization\"):\n",
    "            gradient = self.params.optimizer.compute_gradients(self.cost)\n",
    "            \n",
    "            if self.params.gradient_clipping:\n",
    "                limit = self.params.gradient_clipping\n",
    "                gradient = [\n",
    "                    (tf.clip_by_value(g, -limit, limit), v)\n",
    "                    if g is not None else (None, v)\n",
    "                    for g, v in gradient]\n",
    "            \n",
    "            optimize = self.params.optimizer.apply_gradients(gradient)\n",
    "            \n",
    "        return optimize\n",
    "    \n",
    "    @staticmethod\n",
    "    def _last_relevant(output, length):\n",
    "        with tf.name_scope(\"last_relevant\"):\n",
    "            batch_size = tf.shape(output)[0]\n",
    "            max_length = int(output.get_shape()[1])\n",
    "            output_size = int(output.get_shape()[2])\n",
    "\n",
    "            index = tf.range(0, batch_size) * max_length + (length - 1)\n",
    "            flat = tf.reshape(output, [-1, output_size])\n",
    "            relevant = tf.gather(flat, index)\n",
    "            \n",
    "        return relevant"
   ]
  },
  {
   "cell_type": "markdown",
   "metadata": {},
   "source": [
    "### Batch preprocessing"
   ]
  },
  {
   "cell_type": "code",
   "execution_count": 7,
   "metadata": {
    "collapsed": true
   },
   "outputs": [],
   "source": [
    "def preprocess_batches(samples, length, embedding, count, batch_size):\n",
    "    for shift in range(0, len(samples), batch_size):\n",
    "        data = np.zeros((batch_size, length, embedding.dimension))\n",
    "        target = np.zeros((batch_size, count))\n",
    "        \n",
    "        for index in range(batch_size):\n",
    "            sequence, label = samples[shift + index]\n",
    "            data[index] = embedding(sequence)\n",
    "            target[index, label] = 1\n",
    "    \n",
    "        yield data, target"
   ]
  },
  {
   "cell_type": "code",
   "execution_count": 8,
   "metadata": {
    "collapsed": true
   },
   "outputs": [],
   "source": [
    "samples = list(proteins)\n",
    "random.shuffle(samples)"
   ]
  },
  {
   "cell_type": "code",
   "execution_count": 9,
   "metadata": {
    "collapsed": true
   },
   "outputs": [],
   "source": [
    "max_length = max(len(seq) for seq, _ in samples)\n",
    "embedding = Embedding(\"data/protVec_100d_3grams.csv\", max_length)"
   ]
  },
  {
   "cell_type": "code",
   "execution_count": 10,
   "metadata": {
    "collapsed": true
   },
   "outputs": [],
   "source": [
    "from attrdict import AttrDict\n",
    "\n",
    "params = AttrDict(\n",
    "    rnn_cell=tf.contrib.rnn.GRUCell,\n",
    "    rnn_hidden=100,\n",
    "    optimizer=tf.train.RMSPropOptimizer(0.002),\n",
    "    batch_size=32,\n",
    "    gradient_clipping=100,\n",
    "    seq_length=max_length,\n",
    "    embed_length=embedding.dimension,\n",
    "    classes_count=proteins.count\n",
    ")"
   ]
  },
  {
   "cell_type": "code",
   "execution_count": 11,
   "metadata": {
    "collapsed": true
   },
   "outputs": [],
   "source": [
    "train, test = samples[:80000], samples[80000:92000]"
   ]
  },
  {
   "cell_type": "code",
   "execution_count": 30,
   "metadata": {},
   "outputs": [],
   "source": [
    "train_batches = preprocess_batches(train, max_length, embedding, proteins.count, params.batch_size)\n",
    "test_batches = preprocess_batches(test, max_length, embedding, proteins.count, params.batch_size)"
   ]
  },
  {
   "cell_type": "code",
   "execution_count": 13,
   "metadata": {},
   "outputs": [
    {
     "name": "stderr",
     "output_type": "stream",
     "text": [
      "/home/y_rebryk/anaconda3/lib/python3.6/site-packages/tensorflow/python/ops/gradients_impl.py:95: UserWarning: Converting sparse IndexedSlices to a dense Tensor of unknown shape. This may consume a large amount of memory.\n",
      "  \"Converting sparse IndexedSlices to a dense Tensor of unknown shape. \"\n"
     ]
    }
   ],
   "source": [
    "tf.reset_default_graph()\n",
    "model = SequenceClassificationModel(params)"
   ]
  },
  {
   "cell_type": "markdown",
   "metadata": {},
   "source": [
    "### Setup session"
   ]
  },
  {
   "cell_type": "code",
   "execution_count": 19,
   "metadata": {
    "collapsed": true
   },
   "outputs": [],
   "source": [
    "session = tf.Session()\n",
    "summary_writer = tf.summary.FileWriter(\"./graphs\", session.graph)\n",
    "\n",
    "saver = tf.train.Saver()"
   ]
  },
  {
   "cell_type": "code",
   "execution_count": 20,
   "metadata": {},
   "outputs": [
    {
     "name": "stdout",
     "output_type": "stream",
     "text": [
      "Trying to restore last checkpoint...\n",
      "Failed to restore checkpoint. Initializing variables instead.\n"
     ]
    }
   ],
   "source": [
    "save_dir = \"checkpoints/\"\n",
    "\n",
    "if not os.path.exists(save_dir):\n",
    "    os.makedirs(save_dir)\n",
    "    \n",
    "save_path = os.path.join(save_dir, \"proteins\")\n",
    "\n",
    "try:\n",
    "    print(\"Trying to restore last checkpoint...\")\n",
    "    last_chk_path = tf.train.latest_checkpoint(checkpoint_dir=save_dir)\n",
    "    saver.restore(session, save_path=last_chk_path)\n",
    "    print(\"Restored checkpoint from:\", last_chk_path)\n",
    "except:\n",
    "    print(\"Failed to restore checkpoint. Initializing variables instead.\")\n",
    "    session.run(tf.global_variables_initializer())"
   ]
  },
  {
   "cell_type": "markdown",
   "metadata": {},
   "source": [
    "### Train"
   ]
  },
  {
   "cell_type": "code",
   "execution_count": null,
   "metadata": {},
   "outputs": [
    {
     "name": "stdout",
     "output_type": "stream",
     "text": [
      "50: Average error = 97.4% Average loss = 147.221\n",
      "100: Average error = 96.9% Average loss = 145.584\n",
      "150: Average error = 95.9% Average loss = 139.469\n",
      "200: Average error = 94.2% Average loss = 137.874\n",
      "250: Average error = 92.6% Average loss = 132.635\n",
      "Saved checkpoint\n",
      "300: Average error = 91.0% Average loss = 122.520\n",
      "350: Average error = 89.9% Average loss = 123.845\n",
      "400: Average error = 85.8% Average loss = 114.034\n",
      "450: Average error = 84.8% Average loss = 106.104\n",
      "500: Average error = 79.9% Average loss = 101.160\n",
      "Saved checkpoint\n",
      "550: Average error = 78.3% Average loss = 99.033\n",
      "600: Average error = 76.4% Average loss = 93.737\n",
      "650: Average error = 72.4% Average loss = 88.544\n",
      "700: Average error = 71.1% Average loss = 85.268\n",
      "750: Average error = 68.4% Average loss = 82.680\n",
      "Saved checkpoint\n",
      "800: Average error = 66.7% Average loss = 80.450\n",
      "850: Average error = 64.2% Average loss = 78.021\n",
      "900: Average error = 61.1% Average loss = 72.721\n",
      "950: Average error = 58.5% Average loss = 72.741\n",
      "1000: Average error = 55.9% Average loss = 68.191\n",
      "Saved checkpoint\n",
      "1050: Average error = 53.6% Average loss = 65.632\n",
      "1100: Average error = 50.4% Average loss = 65.151\n",
      "1950: Average error = 31.3% Average loss = 39.394\n",
      "2000: Average error = 29.4% Average loss = 37.709\n",
      "Saved checkpoint\n",
      "2050: Average error = 28.9% Average loss = 37.317\n",
      "2100: Average error = 28.6% Average loss = 37.188\n",
      "2150: Average error = 26.9% Average loss = 34.063\n",
      "2200: Average error = 27.5% Average loss = 34.124\n",
      "2250: Average error = 27.6% Average loss = 36.965\n",
      "Saved checkpoint\n",
      "2300: Average error = 25.0% Average loss = 32.480\n",
      "2350: Average error = 24.6% Average loss = 30.253\n",
      "2400: Average error = 23.1% Average loss = 30.736\n"
     ]
    }
   ],
   "source": [
    "PERIOD = 50\n",
    "SAVE_PERIOD = 250\n",
    "    \n",
    "group_error, group_loss = 0, 0\n",
    "\n",
    "for index, batch in enumerate(train_batches, 1):\n",
    "    feed = {model.data: batch[0], model.target: batch[1]}\n",
    "    error, loss, _, summary_str = session.run([model.error, model.cost, model.optimize, model.summary], \n",
    "                                              feed_dict=feed)\n",
    "\n",
    "    group_error += error\n",
    "    group_loss += loss\n",
    "\n",
    "    summary_writer.add_summary(summary_str, index)\n",
    "\n",
    "    if index % PERIOD == 0:\n",
    "        print(\"{}: Average error = {:2.1f}% Average loss = {:2.3f}\".format(index, \n",
    "                                                                           100 * group_error / PERIOD, \n",
    "                                                                           group_loss / PERIOD))\n",
    "        group_error, group_loss = 0, 0\n",
    "\n",
    "    if index % SAVE_PERIOD == 0:\n",
    "        saver.save(session,\n",
    "                   save_path=save_path,\n",
    "                   global_step=index)\n",
    "\n",
    "        print(\"Saved checkpoint\")"
   ]
  },
  {
   "cell_type": "markdown",
   "metadata": {},
   "source": [
    "### Test"
   ]
  },
  {
   "cell_type": "code",
   "execution_count": 31,
   "metadata": {},
   "outputs": [
    {
     "name": "stdout",
     "output_type": "stream",
     "text": [
      "25: Average error = 26.9% Average loss = 32.391\n",
      "50: Average error = 23.9% Average loss = 29.965\n",
      "75: Average error = 24.2% Average loss = 31.610\n",
      "100: Average error = 21.8% Average loss = 27.713\n",
      "125: Average error = 22.2% Average loss = 29.948\n",
      "150: Average error = 22.5% Average loss = 29.085\n",
      "175: Average error = 22.1% Average loss = 28.507\n",
      "200: Average error = 22.5% Average loss = 28.258\n",
      "225: Average error = 25.6% Average loss = 31.784\n",
      "250: Average error = 23.4% Average loss = 29.660\n",
      "275: Average error = 21.9% Average loss = 28.388\n",
      "300: Average error = 22.1% Average loss = 29.712\n",
      "325: Average error = 24.1% Average loss = 30.906\n",
      "350: Average error = 21.5% Average loss = 30.016\n",
      "375: Average error = 25.8% Average loss = 32.304\n",
      "Test error = 23.4% Test loss = 30.016\n"
     ]
    }
   ],
   "source": [
    "PERIOD = 25\n",
    "\n",
    "total_error, total_loss = 0, 0\n",
    "group_error, group_loss = 0, 0\n",
    "\n",
    "batches = len(test) / params.batch_size\n",
    "\n",
    "for index, batch in enumerate(test_batches, 1):\n",
    "    feed = {model.data: batch[0], model.target: batch[1]}\n",
    "    error, loss = session.run([model.error, model.cost],\n",
    "                              feed_dict=feed)\n",
    "    \n",
    "    group_error += error\n",
    "    group_loss += loss\n",
    "    \n",
    "    if index % PERIOD == 0:\n",
    "        print(\"{}: Average error = {:2.1f}% Average loss = {:2.3f}\".format(index, \n",
    "                                                                           100 * group_error / PERIOD, \n",
    "                                                                           group_loss / PERIOD))\n",
    "        total_error += group_error\n",
    "        total_loss += group_loss\n",
    "        group_error, group_loss = 0, 0\n",
    "\n",
    "total_error /= batches\n",
    "total_loss /= batches\n",
    "print(\"Test error = {:2.1f}% Test loss = {:2.3f}\".format(100 * total_error, total_loss))"
   ]
  },
  {
   "cell_type": "code",
   "execution_count": 32,
   "metadata": {
    "collapsed": true
   },
   "outputs": [],
   "source": [
    "session.close()"
   ]
  },
  {
   "cell_type": "markdown",
   "metadata": {},
   "source": [
    "## XGBoost"
   ]
  },
  {
   "cell_type": "code",
   "execution_count": 33,
   "metadata": {
    "collapsed": true
   },
   "outputs": [],
   "source": [
    "def preprocess_data(data, embedding):\n",
    "    sequences = np.zeros((len(data), embedding.dimension))\n",
    "    labels = np.zeros((len(data), 1))\n",
    "    \n",
    "    for index, (sequence, label) in enumerate(data):\n",
    "        sequences[index] = np.sum(embedding(sequence), axis=0)\n",
    "        labels[index] = label\n",
    "        \n",
    "    return sequences, labels"
   ]
  },
  {
   "cell_type": "code",
   "execution_count": 34,
   "metadata": {
    "collapsed": true
   },
   "outputs": [],
   "source": [
    "X, Y = preprocess_data(samples, embedding)\n",
    "train_X, test_X = X[:80000], X[80000:92000]\n",
    "train_Y, test_Y = Y[:80000], Y[80000:92000]"
   ]
  },
  {
   "cell_type": "code",
   "execution_count": 35,
   "metadata": {
    "collapsed": true
   },
   "outputs": [],
   "source": [
    "params = {\n",
    "    \"objective\": \"multi:softmax\",\n",
    "    \"eta\": 0.1,\n",
    "    \"silent\": 1,\n",
    "    \"max_depth\": 6,\n",
    "    \"num_class\": 100,\n",
    "    \"nthread\": 10\n",
    "}"
   ]
  },
  {
   "cell_type": "code",
   "execution_count": 36,
   "metadata": {
    "collapsed": true
   },
   "outputs": [],
   "source": [
    "xgb_train = xgb.DMatrix(train_X, label=train_Y.squeeze())\n",
    "xgb_test = xgb.DMatrix(test_X, label=test_Y.squeeze())"
   ]
  },
  {
   "cell_type": "code",
   "execution_count": 37,
   "metadata": {},
   "outputs": [
    {
     "name": "stdout",
     "output_type": "stream",
     "text": [
      "[0]\ttrain-merror:0.352713\ttest-merror:0.407833\n",
      "[1]\ttrain-merror:0.293375\ttest-merror:0.363583\n",
      "[2]\ttrain-merror:0.257975\ttest-merror:0.336833\n",
      "[3]\ttrain-merror:0.23235\ttest-merror:0.31725\n",
      "[4]\ttrain-merror:0.214425\ttest-merror:0.302667\n"
     ]
    }
   ],
   "source": [
    "watchlist = [(xgb_train, \"train\"), (xgb_test, \"test\")]\n",
    "num_round = 5\n",
    "booster = xgb.train(params, xgb_train, num_round, watchlist)"
   ]
  },
  {
   "cell_type": "markdown",
   "metadata": {},
   "source": [
    "## TSNE"
   ]
  },
  {
   "cell_type": "code",
   "execution_count": 65,
   "metadata": {},
   "outputs": [],
   "source": [
    "tsne = TSNE(n_components=2, random_state=17)\n",
    "indices = np.logical_or(Y == 0, Y == 1).squeeze()\n",
    "X_embeded = tsne.fit_transform(X[indices])\n",
    "Y_embeded = Y[indices]"
   ]
  },
  {
   "cell_type": "code",
   "execution_count": 66,
   "metadata": {
    "collapsed": true
   },
   "outputs": [],
   "source": [
    "def plot(X, Y):\n",
    "    plt.scatter(X[:, 0], X[:, 1], c=Y, s=40, cmap=plt.cm.get_cmap(\"Set1\"))\n",
    "    plt.show()"
   ]
  },
  {
   "cell_type": "code",
   "execution_count": 67,
   "metadata": {},
   "outputs": [
    {
     "data": {
      "image/png": "[encoded data removed]",
      "text/plain": [
       "<matplotlib.figure.Figure at 0x2b3ae097b3c8>"
      ]
     },
     "metadata": {},
     "output_type": "display_data"
    }
   ],
   "source": [
    "plot(X_embeded, Y_embeded)"
   ]
  }
 ],
 "metadata": {
  "kernelspec": {
   "display_name": "Python 3",
   "language": "python",
   "name": "python3"
  },
  "language_info": {
   "codemirror_mode": {
    "name": "ipython",
    "version": 3
   },
   "file_extension": ".py",
   "mimetype": "text/x-python",
   "name": "python",
   "nbconvert_exporter": "python",
   "pygments_lexer": "ipython3",
   "version": "3.6.1"
  }
 },
 "nbformat": 4,
 "nbformat_minor": 2
}
