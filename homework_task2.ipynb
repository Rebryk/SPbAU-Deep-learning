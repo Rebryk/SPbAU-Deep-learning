{
 "cells": [
  {
   "cell_type": "code",
   "execution_count": 1,
   "metadata": {
    "collapsed": true
   },
   "outputs": [],
   "source": [
    "import os\n",
    "import numpy as np\n",
    "import tensorflow as tf\n",
    "from tensorflow.examples.tutorials.mnist import input_data\n",
    "import time"
   ]
  },
  {
   "cell_type": "code",
   "execution_count": 2,
   "metadata": {
    "collapsed": true
   },
   "outputs": [],
   "source": [
    "# Define paramaters for the model\n",
    "learning_rate = 0.01\n",
    "batch_size = 128\n",
    "n_epochs = 25"
   ]
  },
  {
   "cell_type": "markdown",
   "metadata": {},
   "source": [
    "Step 1: Read in data<br>\n",
    "using TF Learn's built in function to load MNIST data to the folder data/mnist"
   ]
  },
  {
   "cell_type": "code",
   "execution_count": 3,
   "metadata": {},
   "outputs": [
    {
     "name": "stdout",
     "output_type": "stream",
     "text": [
      "Extracting ./data/mnist/train-images-idx3-ubyte.gz\n",
      "Extracting ./data/mnist/train-labels-idx1-ubyte.gz\n",
      "Extracting ./data/mnist/t10k-images-idx3-ubyte.gz\n",
      "Extracting ./data/mnist/t10k-labels-idx1-ubyte.gz\n"
     ]
    }
   ],
   "source": [
    "mnist = input_data.read_data_sets('./data/mnist', one_hot=True) "
   ]
  },
  {
   "cell_type": "markdown",
   "metadata": {},
   "source": [
    "Step 2: create placeholders for features and labels<br>\n",
    "each image in the MNIST data is of shape 28*28 = 784<br>\n",
    "therefore, each image is represented with a 1x784 tensor<br>\n",
    "there are 10 classes for each image, corresponding to digits 0 - 9.<br>\n",
    "Features are of the type float, and labels are of the type int<br>"
   ]
  },
  {
   "cell_type": "code",
   "execution_count": 4,
   "metadata": {
    "collapsed": true
   },
   "outputs": [],
   "source": [
    "X = tf.placeholder(tf.float64, shape=(None, 784), name=\"X\")\n",
    "Y = tf.placeholder(tf.float64, shape=(None, 10), name=\"Y\")"
   ]
  },
  {
   "cell_type": "markdown",
   "metadata": {},
   "source": [
    "Step 3: create weights and bias<br>\n",
    "weights and biases are initialized to 0<br>\n",
    "shape of w depends on the dimension of X and Y so that Y = X * w + b<br>\n",
    "shape of b depends on Y<br>"
   ]
  },
  {
   "cell_type": "code",
   "execution_count": 5,
   "metadata": {
    "collapsed": true
   },
   "outputs": [],
   "source": [
    "w = tf.Variable(tf.zeros([784, 10], tf.float64), name=\"w\")\n",
    "b = tf.Variable(tf.zeros([10], tf.float64), name=\"b\")"
   ]
  },
  {
   "cell_type": "markdown",
   "metadata": {},
   "source": [
    "Step 4: build model<br>\n",
    "the model that returns the logits.<br>\n",
    "this logits will be later passed through softmax layer<br>\n",
    "to get the probability distribution of possible label of the image<br>\n",
    "DO NOT DO SOFTMAX HERE<br>"
   ]
  },
  {
   "cell_type": "code",
   "execution_count": 6,
   "metadata": {},
   "outputs": [],
   "source": [
    "logits = tf.matmul(X, w) + b"
   ]
  },
  {
   "cell_type": "markdown",
   "metadata": {},
   "source": [
    "Step 5: define loss function<br>\n",
    "use cross entropy loss of the real labels with the softmax of logits<br>\n",
    "use the method:<br>\n",
    "tf.nn.softmax_cross_entropy_with_logits(logits, Y)<br>\n",
    "then use tf.reduce_mean to get the mean loss of the batch<br>"
   ]
  },
  {
   "cell_type": "code",
   "execution_count": 7,
   "metadata": {},
   "outputs": [],
   "source": [
    "loss = tf.reduce_mean(tf.nn.softmax_cross_entropy_with_logits(logits=logits, labels=Y))"
   ]
  },
  {
   "cell_type": "markdown",
   "metadata": {},
   "source": [
    "Step 6: define training op<br>\n",
    "using gradient descent to minimize loss"
   ]
  },
  {
   "cell_type": "code",
   "execution_count": 8,
   "metadata": {},
   "outputs": [
    {
     "name": "stdout",
     "output_type": "stream",
     "text": [
      "Average loss epoch 0: 1.2891861425663818\n",
      "Average loss epoch 1: 0.7323848443710149\n",
      "Average loss epoch 2: 0.6004005844970574\n",
      "Average loss epoch 3: 0.5366555714129417\n",
      "Average loss epoch 4: 0.497958597709441\n",
      "Average loss epoch 5: 0.47123117144251075\n",
      "Average loss epoch 6: 0.45040224926191696\n",
      "Average loss epoch 7: 0.43691803494548076\n",
      "Average loss epoch 8: 0.42249132236490755\n",
      "Average loss epoch 9: 0.41359522835241197\n",
      "Average loss epoch 10: 0.4040990843800899\n",
      "Average loss epoch 11: 0.396953124043327\n",
      "Average loss epoch 12: 0.3902133299403652\n",
      "Average loss epoch 13: 0.38414130392928747\n",
      "Average loss epoch 14: 0.37991902793529886\n",
      "Average loss epoch 15: 0.37451410048159894\n",
      "Average loss epoch 16: 0.36986075015905\n",
      "Average loss epoch 17: 0.36594627499897886\n",
      "Average loss epoch 18: 0.36307373827840955\n",
      "Average loss epoch 19: 0.3608301633366272\n",
      "Average loss epoch 20: 0.35682542333246636\n",
      "Average loss epoch 21: 0.35235096564297413\n",
      "Average loss epoch 22: 0.3520025680775049\n",
      "Average loss epoch 23: 0.3487034052138079\n",
      "Average loss epoch 24: 0.34577262898118233\n",
      "Total time: 26.88451600074768 seconds\n",
      "Optimization Finished!\n",
      "Accuracy 0.91\n"
     ]
    }
   ],
   "source": [
    "optimizer = tf.train.GradientDescentOptimizer(learning_rate=learning_rate).minimize(loss)\n",
    "\n",
    "with tf.Session() as sess:\n",
    "    start_time = time.time()\n",
    "    sess.run(tf.global_variables_initializer())\t\n",
    "    n_batches = int(mnist.train.num_examples / batch_size)\n",
    "    for i in range(n_epochs): # train the model n_epochs times\n",
    "        total_loss = 0\n",
    "\n",
    "        for _ in range(n_batches):\n",
    "            X_batch, Y_batch = mnist.train.next_batch(batch_size)\n",
    "            _, loss_batch = sess.run([optimizer, loss], feed_dict={X: X_batch, Y: Y_batch})\n",
    "            total_loss += loss_batch\n",
    "        print('Average loss epoch {0}: {1}'.format(i, total_loss / n_batches))\n",
    "\n",
    "    print('Total time: {0} seconds'.format(time.time() - start_time))\n",
    "\n",
    "    print('Optimization Finished!') # should be around 0.35 after 25 epochs\n",
    "    \n",
    "    # test the model\n",
    "    preds = tf.nn.softmax(logits)\n",
    "    correct_preds = tf.equal(tf.argmax(preds, 1), tf.argmax(Y, 1))\n",
    "    accuracy = tf.reduce_sum(tf.cast(correct_preds, tf.float32)) # need numpy.count_nonzero(boolarr) :(\n",
    "    \n",
    "    n_batches = int(mnist.test.num_examples / batch_size)\n",
    "    total_correct_preds = 0\n",
    "    \n",
    "    for i in range(n_batches):\n",
    "        X_batch, Y_batch = mnist.test.next_batch(batch_size)\n",
    "        accuracy_batch = sess.run([accuracy], feed_dict={X: X_batch, Y: Y_batch}) \n",
    "        total_correct_preds += accuracy_batch[0]\n",
    "    \n",
    "    print('Accuracy {0}'.format(total_correct_preds / mnist.test.num_examples))"
   ]
  }
 ],
 "metadata": {
  "kernelspec": {
   "display_name": "Python 3",
   "language": "python",
   "name": "python3"
  },
  "language_info": {
   "codemirror_mode": {
    "name": "ipython",
    "version": 3
   },
   "file_extension": ".py",
   "mimetype": "text/x-python",
   "name": "python",
   "nbconvert_exporter": "python",
   "pygments_lexer": "ipython3",
   "version": "3.6.1"
  }
 },
 "nbformat": 4,
 "nbformat_minor": 2
}
